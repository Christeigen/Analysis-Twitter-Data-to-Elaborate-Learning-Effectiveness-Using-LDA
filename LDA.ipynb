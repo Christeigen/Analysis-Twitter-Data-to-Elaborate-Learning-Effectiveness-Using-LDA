{
  "nbformat": 4,
  "nbformat_minor": 0,
  "metadata": {
    "colab": {
      "name": "LDA.ipynb",
      "provenance": [],
      "collapsed_sections": []
    },
    "kernelspec": {
      "name": "python3",
      "display_name": "Python 3"
    },
    "language_info": {
      "name": "python"
    },
    "widgets": {
      "application/vnd.jupyter.widget-state+json": {
        "992b64385ad649499b80d53efeb8c566": {
          "model_module": "@jupyter-widgets/controls",
          "model_name": "HBoxModel",
          "model_module_version": "1.5.0",
          "state": {
            "_dom_classes": [],
            "_model_module": "@jupyter-widgets/controls",
            "_model_module_version": "1.5.0",
            "_model_name": "HBoxModel",
            "_view_count": null,
            "_view_module": "@jupyter-widgets/controls",
            "_view_module_version": "1.5.0",
            "_view_name": "HBoxView",
            "box_style": "",
            "children": [
              "IPY_MODEL_46aa5850e5b24b1cbe92dcd3f68de312",
              "IPY_MODEL_2cc9dcd8d6854f31a08523b75d468e1b",
              "IPY_MODEL_5defff1e27754ae2b1214621e43b9071"
            ],
            "layout": "IPY_MODEL_b37194549820466aa2cab92b12bf79e3"
          }
        },
        "46aa5850e5b24b1cbe92dcd3f68de312": {
          "model_module": "@jupyter-widgets/controls",
          "model_name": "HTMLModel",
          "model_module_version": "1.5.0",
          "state": {
            "_dom_classes": [],
            "_model_module": "@jupyter-widgets/controls",
            "_model_module_version": "1.5.0",
            "_model_name": "HTMLModel",
            "_view_count": null,
            "_view_module": "@jupyter-widgets/controls",
            "_view_module_version": "1.5.0",
            "_view_name": "HTMLView",
            "description": "",
            "description_tooltip": null,
            "layout": "IPY_MODEL_628ed9465e6d41999fb651fa9d464c22",
            "placeholder": "​",
            "style": "IPY_MODEL_b9c5713fcd844116a5530e7c4ff33e9c",
            "value": "Pandas Apply: 100%"
          }
        },
        "2cc9dcd8d6854f31a08523b75d468e1b": {
          "model_module": "@jupyter-widgets/controls",
          "model_name": "FloatProgressModel",
          "model_module_version": "1.5.0",
          "state": {
            "_dom_classes": [],
            "_model_module": "@jupyter-widgets/controls",
            "_model_module_version": "1.5.0",
            "_model_name": "FloatProgressModel",
            "_view_count": null,
            "_view_module": "@jupyter-widgets/controls",
            "_view_module_version": "1.5.0",
            "_view_name": "ProgressView",
            "bar_style": "success",
            "description": "",
            "description_tooltip": null,
            "layout": "IPY_MODEL_b225d47ab9954d0693525ede9a6e3853",
            "max": 3578,
            "min": 0,
            "orientation": "horizontal",
            "style": "IPY_MODEL_f29f8d34379f4f6d912c4b1de470d104",
            "value": 3578
          }
        },
        "5defff1e27754ae2b1214621e43b9071": {
          "model_module": "@jupyter-widgets/controls",
          "model_name": "HTMLModel",
          "model_module_version": "1.5.0",
          "state": {
            "_dom_classes": [],
            "_model_module": "@jupyter-widgets/controls",
            "_model_module_version": "1.5.0",
            "_model_name": "HTMLModel",
            "_view_count": null,
            "_view_module": "@jupyter-widgets/controls",
            "_view_module_version": "1.5.0",
            "_view_name": "HTMLView",
            "description": "",
            "description_tooltip": null,
            "layout": "IPY_MODEL_ee60532219554d58a5bf21261364c3b6",
            "placeholder": "​",
            "style": "IPY_MODEL_504b2758affe43d09feff16ce5ae1844",
            "value": " 3578/3578 [00:00&lt;00:00, 47759.17it/s]"
          }
        },
        "b37194549820466aa2cab92b12bf79e3": {
          "model_module": "@jupyter-widgets/base",
          "model_name": "LayoutModel",
          "model_module_version": "1.2.0",
          "state": {
            "_model_module": "@jupyter-widgets/base",
            "_model_module_version": "1.2.0",
            "_model_name": "LayoutModel",
            "_view_count": null,
            "_view_module": "@jupyter-widgets/base",
            "_view_module_version": "1.2.0",
            "_view_name": "LayoutView",
            "align_content": null,
            "align_items": null,
            "align_self": null,
            "border": null,
            "bottom": null,
            "display": null,
            "flex": null,
            "flex_flow": null,
            "grid_area": null,
            "grid_auto_columns": null,
            "grid_auto_flow": null,
            "grid_auto_rows": null,
            "grid_column": null,
            "grid_gap": null,
            "grid_row": null,
            "grid_template_areas": null,
            "grid_template_columns": null,
            "grid_template_rows": null,
            "height": null,
            "justify_content": null,
            "justify_items": null,
            "left": null,
            "margin": null,
            "max_height": null,
            "max_width": null,
            "min_height": null,
            "min_width": null,
            "object_fit": null,
            "object_position": null,
            "order": null,
            "overflow": null,
            "overflow_x": null,
            "overflow_y": null,
            "padding": null,
            "right": null,
            "top": null,
            "visibility": null,
            "width": null
          }
        },
        "628ed9465e6d41999fb651fa9d464c22": {
          "model_module": "@jupyter-widgets/base",
          "model_name": "LayoutModel",
          "model_module_version": "1.2.0",
          "state": {
            "_model_module": "@jupyter-widgets/base",
            "_model_module_version": "1.2.0",
            "_model_name": "LayoutModel",
            "_view_count": null,
            "_view_module": "@jupyter-widgets/base",
            "_view_module_version": "1.2.0",
            "_view_name": "LayoutView",
            "align_content": null,
            "align_items": null,
            "align_self": null,
            "border": null,
            "bottom": null,
            "display": null,
            "flex": null,
            "flex_flow": null,
            "grid_area": null,
            "grid_auto_columns": null,
            "grid_auto_flow": null,
            "grid_auto_rows": null,
            "grid_column": null,
            "grid_gap": null,
            "grid_row": null,
            "grid_template_areas": null,
            "grid_template_columns": null,
            "grid_template_rows": null,
            "height": null,
            "justify_content": null,
            "justify_items": null,
            "left": null,
            "margin": null,
            "max_height": null,
            "max_width": null,
            "min_height": null,
            "min_width": null,
            "object_fit": null,
            "object_position": null,
            "order": null,
            "overflow": null,
            "overflow_x": null,
            "overflow_y": null,
            "padding": null,
            "right": null,
            "top": null,
            "visibility": null,
            "width": null
          }
        },
        "b9c5713fcd844116a5530e7c4ff33e9c": {
          "model_module": "@jupyter-widgets/controls",
          "model_name": "DescriptionStyleModel",
          "model_module_version": "1.5.0",
          "state": {
            "_model_module": "@jupyter-widgets/controls",
            "_model_module_version": "1.5.0",
            "_model_name": "DescriptionStyleModel",
            "_view_count": null,
            "_view_module": "@jupyter-widgets/base",
            "_view_module_version": "1.2.0",
            "_view_name": "StyleView",
            "description_width": ""
          }
        },
        "b225d47ab9954d0693525ede9a6e3853": {
          "model_module": "@jupyter-widgets/base",
          "model_name": "LayoutModel",
          "model_module_version": "1.2.0",
          "state": {
            "_model_module": "@jupyter-widgets/base",
            "_model_module_version": "1.2.0",
            "_model_name": "LayoutModel",
            "_view_count": null,
            "_view_module": "@jupyter-widgets/base",
            "_view_module_version": "1.2.0",
            "_view_name": "LayoutView",
            "align_content": null,
            "align_items": null,
            "align_self": null,
            "border": null,
            "bottom": null,
            "display": null,
            "flex": null,
            "flex_flow": null,
            "grid_area": null,
            "grid_auto_columns": null,
            "grid_auto_flow": null,
            "grid_auto_rows": null,
            "grid_column": null,
            "grid_gap": null,
            "grid_row": null,
            "grid_template_areas": null,
            "grid_template_columns": null,
            "grid_template_rows": null,
            "height": null,
            "justify_content": null,
            "justify_items": null,
            "left": null,
            "margin": null,
            "max_height": null,
            "max_width": null,
            "min_height": null,
            "min_width": null,
            "object_fit": null,
            "object_position": null,
            "order": null,
            "overflow": null,
            "overflow_x": null,
            "overflow_y": null,
            "padding": null,
            "right": null,
            "top": null,
            "visibility": null,
            "width": null
          }
        },
        "f29f8d34379f4f6d912c4b1de470d104": {
          "model_module": "@jupyter-widgets/controls",
          "model_name": "ProgressStyleModel",
          "model_module_version": "1.5.0",
          "state": {
            "_model_module": "@jupyter-widgets/controls",
            "_model_module_version": "1.5.0",
            "_model_name": "ProgressStyleModel",
            "_view_count": null,
            "_view_module": "@jupyter-widgets/base",
            "_view_module_version": "1.2.0",
            "_view_name": "StyleView",
            "bar_color": null,
            "description_width": ""
          }
        },
        "ee60532219554d58a5bf21261364c3b6": {
          "model_module": "@jupyter-widgets/base",
          "model_name": "LayoutModel",
          "model_module_version": "1.2.0",
          "state": {
            "_model_module": "@jupyter-widgets/base",
            "_model_module_version": "1.2.0",
            "_model_name": "LayoutModel",
            "_view_count": null,
            "_view_module": "@jupyter-widgets/base",
            "_view_module_version": "1.2.0",
            "_view_name": "LayoutView",
            "align_content": null,
            "align_items": null,
            "align_self": null,
            "border": null,
            "bottom": null,
            "display": null,
            "flex": null,
            "flex_flow": null,
            "grid_area": null,
            "grid_auto_columns": null,
            "grid_auto_flow": null,
            "grid_auto_rows": null,
            "grid_column": null,
            "grid_gap": null,
            "grid_row": null,
            "grid_template_areas": null,
            "grid_template_columns": null,
            "grid_template_rows": null,
            "height": null,
            "justify_content": null,
            "justify_items": null,
            "left": null,
            "margin": null,
            "max_height": null,
            "max_width": null,
            "min_height": null,
            "min_width": null,
            "object_fit": null,
            "object_position": null,
            "order": null,
            "overflow": null,
            "overflow_x": null,
            "overflow_y": null,
            "padding": null,
            "right": null,
            "top": null,
            "visibility": null,
            "width": null
          }
        },
        "504b2758affe43d09feff16ce5ae1844": {
          "model_module": "@jupyter-widgets/controls",
          "model_name": "DescriptionStyleModel",
          "model_module_version": "1.5.0",
          "state": {
            "_model_module": "@jupyter-widgets/controls",
            "_model_module_version": "1.5.0",
            "_model_name": "DescriptionStyleModel",
            "_view_count": null,
            "_view_module": "@jupyter-widgets/base",
            "_view_module_version": "1.2.0",
            "_view_name": "StyleView",
            "description_width": ""
          }
        }
      }
    }
  },
  "cells": [
    {
      "cell_type": "markdown",
      "metadata": {
        "id": "Us-FVDTlMj1d"
      },
      "source": [
        "# LDA"
      ]
    },
    {
      "cell_type": "markdown",
      "metadata": {
        "id": "VrlwHBpPslgu"
      },
      "source": [
        "Instalasi beberapa library yang diperlukan, untuk NLTK dan GENSIM sudah include di Colab"
      ]
    },
    {
      "cell_type": "code",
      "metadata": {
        "id": "Jb09FJAq58To",
        "colab": {
          "base_uri": "https://localhost:8080/"
        },
        "outputId": "8769cc9e-7b1c-4b35-aa4a-20efdcee2c86"
      },
      "source": [
        "pip install --upgrade gensim"
      ],
      "execution_count": null,
      "outputs": [
        {
          "output_type": "stream",
          "name": "stdout",
          "text": [
            "Requirement already satisfied: gensim in /usr/local/lib/python3.7/dist-packages (3.6.0)\n",
            "Collecting gensim\n",
            "  Downloading gensim-4.2.0-cp37-cp37m-manylinux_2_12_x86_64.manylinux2010_x86_64.whl (24.1 MB)\n",
            "\u001b[K     |████████████████████████████████| 24.1 MB 1.3 MB/s \n",
            "\u001b[?25hRequirement already satisfied: smart-open>=1.8.1 in /usr/local/lib/python3.7/dist-packages (from gensim) (6.0.0)\n",
            "Requirement already satisfied: numpy>=1.17.0 in /usr/local/lib/python3.7/dist-packages (from gensim) (1.21.6)\n",
            "Requirement already satisfied: scipy>=0.18.1 in /usr/local/lib/python3.7/dist-packages (from gensim) (1.4.1)\n",
            "Installing collected packages: gensim\n",
            "  Attempting uninstall: gensim\n",
            "    Found existing installation: gensim 3.6.0\n",
            "    Uninstalling gensim-3.6.0:\n",
            "      Successfully uninstalled gensim-3.6.0\n",
            "Successfully installed gensim-4.2.0\n"
          ]
        }
      ]
    },
    {
      "cell_type": "code",
      "metadata": {
        "id": "Npfo7KZAsKKT",
        "colab": {
          "base_uri": "https://localhost:8080/"
        },
        "outputId": "87b0ec9d-a384-4202-e973-76d04fc4ea86"
      },
      "source": [
        "pip install pyldavis==3.2.1"
      ],
      "execution_count": null,
      "outputs": [
        {
          "output_type": "stream",
          "name": "stdout",
          "text": [
            "Collecting pyldavis==3.2.1\n",
            "  Downloading pyLDAvis-3.2.1.tar.gz (1.7 MB)\n",
            "\u001b[?25l\r\u001b[K     |▏                               | 10 kB 36.0 MB/s eta 0:00:01\r\u001b[K     |▍                               | 20 kB 41.3 MB/s eta 0:00:01\r\u001b[K     |▋                               | 30 kB 43.2 MB/s eta 0:00:01\r\u001b[K     |▉                               | 40 kB 27.7 MB/s eta 0:00:01\r\u001b[K     |█                               | 51 kB 26.9 MB/s eta 0:00:01\r\u001b[K     |█▏                              | 61 kB 30.4 MB/s eta 0:00:01\r\u001b[K     |█▍                              | 71 kB 23.8 MB/s eta 0:00:01\r\u001b[K     |█▋                              | 81 kB 24.8 MB/s eta 0:00:01\r\u001b[K     |█▉                              | 92 kB 26.9 MB/s eta 0:00:01\r\u001b[K     |██                              | 102 kB 25.5 MB/s eta 0:00:01\r\u001b[K     |██▏                             | 112 kB 25.5 MB/s eta 0:00:01\r\u001b[K     |██▍                             | 122 kB 25.5 MB/s eta 0:00:01\r\u001b[K     |██▋                             | 133 kB 25.5 MB/s eta 0:00:01\r\u001b[K     |██▊                             | 143 kB 25.5 MB/s eta 0:00:01\r\u001b[K     |███                             | 153 kB 25.5 MB/s eta 0:00:01\r\u001b[K     |███▏                            | 163 kB 25.5 MB/s eta 0:00:01\r\u001b[K     |███▍                            | 174 kB 25.5 MB/s eta 0:00:01\r\u001b[K     |███▋                            | 184 kB 25.5 MB/s eta 0:00:01\r\u001b[K     |███▊                            | 194 kB 25.5 MB/s eta 0:00:01\r\u001b[K     |████                            | 204 kB 25.5 MB/s eta 0:00:01\r\u001b[K     |████▏                           | 215 kB 25.5 MB/s eta 0:00:01\r\u001b[K     |████▍                           | 225 kB 25.5 MB/s eta 0:00:01\r\u001b[K     |████▋                           | 235 kB 25.5 MB/s eta 0:00:01\r\u001b[K     |████▊                           | 245 kB 25.5 MB/s eta 0:00:01\r\u001b[K     |█████                           | 256 kB 25.5 MB/s eta 0:00:01\r\u001b[K     |█████▏                          | 266 kB 25.5 MB/s eta 0:00:01\r\u001b[K     |█████▍                          | 276 kB 25.5 MB/s eta 0:00:01\r\u001b[K     |█████▌                          | 286 kB 25.5 MB/s eta 0:00:01\r\u001b[K     |█████▊                          | 296 kB 25.5 MB/s eta 0:00:01\r\u001b[K     |██████                          | 307 kB 25.5 MB/s eta 0:00:01\r\u001b[K     |██████▏                         | 317 kB 25.5 MB/s eta 0:00:01\r\u001b[K     |██████▍                         | 327 kB 25.5 MB/s eta 0:00:01\r\u001b[K     |██████▌                         | 337 kB 25.5 MB/s eta 0:00:01\r\u001b[K     |██████▊                         | 348 kB 25.5 MB/s eta 0:00:01\r\u001b[K     |███████                         | 358 kB 25.5 MB/s eta 0:00:01\r\u001b[K     |███████▏                        | 368 kB 25.5 MB/s eta 0:00:01\r\u001b[K     |███████▍                        | 378 kB 25.5 MB/s eta 0:00:01\r\u001b[K     |███████▌                        | 389 kB 25.5 MB/s eta 0:00:01\r\u001b[K     |███████▊                        | 399 kB 25.5 MB/s eta 0:00:01\r\u001b[K     |████████                        | 409 kB 25.5 MB/s eta 0:00:01\r\u001b[K     |████████▏                       | 419 kB 25.5 MB/s eta 0:00:01\r\u001b[K     |████████▎                       | 430 kB 25.5 MB/s eta 0:00:01\r\u001b[K     |████████▌                       | 440 kB 25.5 MB/s eta 0:00:01\r\u001b[K     |████████▊                       | 450 kB 25.5 MB/s eta 0:00:01\r\u001b[K     |█████████                       | 460 kB 25.5 MB/s eta 0:00:01\r\u001b[K     |█████████▏                      | 471 kB 25.5 MB/s eta 0:00:01\r\u001b[K     |█████████▎                      | 481 kB 25.5 MB/s eta 0:00:01\r\u001b[K     |█████████▌                      | 491 kB 25.5 MB/s eta 0:00:01\r\u001b[K     |█████████▊                      | 501 kB 25.5 MB/s eta 0:00:01\r\u001b[K     |██████████                      | 512 kB 25.5 MB/s eta 0:00:01\r\u001b[K     |██████████▏                     | 522 kB 25.5 MB/s eta 0:00:01\r\u001b[K     |██████████▎                     | 532 kB 25.5 MB/s eta 0:00:01\r\u001b[K     |██████████▌                     | 542 kB 25.5 MB/s eta 0:00:01\r\u001b[K     |██████████▊                     | 552 kB 25.5 MB/s eta 0:00:01\r\u001b[K     |███████████                     | 563 kB 25.5 MB/s eta 0:00:01\r\u001b[K     |███████████                     | 573 kB 25.5 MB/s eta 0:00:01\r\u001b[K     |███████████▎                    | 583 kB 25.5 MB/s eta 0:00:01\r\u001b[K     |███████████▌                    | 593 kB 25.5 MB/s eta 0:00:01\r\u001b[K     |███████████▊                    | 604 kB 25.5 MB/s eta 0:00:01\r\u001b[K     |████████████                    | 614 kB 25.5 MB/s eta 0:00:01\r\u001b[K     |████████████                    | 624 kB 25.5 MB/s eta 0:00:01\r\u001b[K     |████████████▎                   | 634 kB 25.5 MB/s eta 0:00:01\r\u001b[K     |████████████▌                   | 645 kB 25.5 MB/s eta 0:00:01\r\u001b[K     |████████████▊                   | 655 kB 25.5 MB/s eta 0:00:01\r\u001b[K     |█████████████                   | 665 kB 25.5 MB/s eta 0:00:01\r\u001b[K     |█████████████                   | 675 kB 25.5 MB/s eta 0:00:01\r\u001b[K     |█████████████▎                  | 686 kB 25.5 MB/s eta 0:00:01\r\u001b[K     |█████████████▌                  | 696 kB 25.5 MB/s eta 0:00:01\r\u001b[K     |█████████████▊                  | 706 kB 25.5 MB/s eta 0:00:01\r\u001b[K     |█████████████▉                  | 716 kB 25.5 MB/s eta 0:00:01\r\u001b[K     |██████████████                  | 727 kB 25.5 MB/s eta 0:00:01\r\u001b[K     |██████████████▎                 | 737 kB 25.5 MB/s eta 0:00:01\r\u001b[K     |██████████████▌                 | 747 kB 25.5 MB/s eta 0:00:01\r\u001b[K     |██████████████▊                 | 757 kB 25.5 MB/s eta 0:00:01\r\u001b[K     |██████████████▉                 | 768 kB 25.5 MB/s eta 0:00:01\r\u001b[K     |███████████████                 | 778 kB 25.5 MB/s eta 0:00:01\r\u001b[K     |███████████████▎                | 788 kB 25.5 MB/s eta 0:00:01\r\u001b[K     |███████████████▌                | 798 kB 25.5 MB/s eta 0:00:01\r\u001b[K     |███████████████▊                | 808 kB 25.5 MB/s eta 0:00:01\r\u001b[K     |███████████████▉                | 819 kB 25.5 MB/s eta 0:00:01\r\u001b[K     |████████████████                | 829 kB 25.5 MB/s eta 0:00:01\r\u001b[K     |████████████████▎               | 839 kB 25.5 MB/s eta 0:00:01\r\u001b[K     |████████████████▌               | 849 kB 25.5 MB/s eta 0:00:01\r\u001b[K     |████████████████▋               | 860 kB 25.5 MB/s eta 0:00:01\r\u001b[K     |████████████████▉               | 870 kB 25.5 MB/s eta 0:00:01\r\u001b[K     |█████████████████               | 880 kB 25.5 MB/s eta 0:00:01\r\u001b[K     |█████████████████▎              | 890 kB 25.5 MB/s eta 0:00:01\r\u001b[K     |█████████████████▌              | 901 kB 25.5 MB/s eta 0:00:01\r\u001b[K     |█████████████████▋              | 911 kB 25.5 MB/s eta 0:00:01\r\u001b[K     |█████████████████▉              | 921 kB 25.5 MB/s eta 0:00:01\r\u001b[K     |██████████████████              | 931 kB 25.5 MB/s eta 0:00:01\r\u001b[K     |██████████████████▎             | 942 kB 25.5 MB/s eta 0:00:01\r\u001b[K     |██████████████████▌             | 952 kB 25.5 MB/s eta 0:00:01\r\u001b[K     |██████████████████▋             | 962 kB 25.5 MB/s eta 0:00:01\r\u001b[K     |██████████████████▉             | 972 kB 25.5 MB/s eta 0:00:01\r\u001b[K     |███████████████████             | 983 kB 25.5 MB/s eta 0:00:01\r\u001b[K     |███████████████████▎            | 993 kB 25.5 MB/s eta 0:00:01\r\u001b[K     |███████████████████▍            | 1.0 MB 25.5 MB/s eta 0:00:01\r\u001b[K     |███████████████████▋            | 1.0 MB 25.5 MB/s eta 0:00:01\r\u001b[K     |███████████████████▉            | 1.0 MB 25.5 MB/s eta 0:00:01\r\u001b[K     |████████████████████            | 1.0 MB 25.5 MB/s eta 0:00:01\r\u001b[K     |████████████████████▎           | 1.0 MB 25.5 MB/s eta 0:00:01\r\u001b[K     |████████████████████▍           | 1.1 MB 25.5 MB/s eta 0:00:01\r\u001b[K     |████████████████████▋           | 1.1 MB 25.5 MB/s eta 0:00:01\r\u001b[K     |████████████████████▉           | 1.1 MB 25.5 MB/s eta 0:00:01\r\u001b[K     |█████████████████████           | 1.1 MB 25.5 MB/s eta 0:00:01\r\u001b[K     |█████████████████████▎          | 1.1 MB 25.5 MB/s eta 0:00:01\r\u001b[K     |█████████████████████▍          | 1.1 MB 25.5 MB/s eta 0:00:01\r\u001b[K     |█████████████████████▋          | 1.1 MB 25.5 MB/s eta 0:00:01\r\u001b[K     |█████████████████████▉          | 1.1 MB 25.5 MB/s eta 0:00:01\r\u001b[K     |██████████████████████          | 1.1 MB 25.5 MB/s eta 0:00:01\r\u001b[K     |██████████████████████▏         | 1.1 MB 25.5 MB/s eta 0:00:01\r\u001b[K     |██████████████████████▍         | 1.2 MB 25.5 MB/s eta 0:00:01\r\u001b[K     |██████████████████████▋         | 1.2 MB 25.5 MB/s eta 0:00:01\r\u001b[K     |██████████████████████▉         | 1.2 MB 25.5 MB/s eta 0:00:01\r\u001b[K     |███████████████████████         | 1.2 MB 25.5 MB/s eta 0:00:01\r\u001b[K     |███████████████████████▏        | 1.2 MB 25.5 MB/s eta 0:00:01\r\u001b[K     |███████████████████████▍        | 1.2 MB 25.5 MB/s eta 0:00:01\r\u001b[K     |███████████████████████▋        | 1.2 MB 25.5 MB/s eta 0:00:01\r\u001b[K     |███████████████████████▉        | 1.2 MB 25.5 MB/s eta 0:00:01\r\u001b[K     |████████████████████████        | 1.2 MB 25.5 MB/s eta 0:00:01\r\u001b[K     |████████████████████████▏       | 1.2 MB 25.5 MB/s eta 0:00:01\r\u001b[K     |████████████████████████▍       | 1.3 MB 25.5 MB/s eta 0:00:01\r\u001b[K     |████████████████████████▋       | 1.3 MB 25.5 MB/s eta 0:00:01\r\u001b[K     |████████████████████████▉       | 1.3 MB 25.5 MB/s eta 0:00:01\r\u001b[K     |█████████████████████████       | 1.3 MB 25.5 MB/s eta 0:00:01\r\u001b[K     |█████████████████████████▏      | 1.3 MB 25.5 MB/s eta 0:00:01\r\u001b[K     |█████████████████████████▍      | 1.3 MB 25.5 MB/s eta 0:00:01\r\u001b[K     |█████████████████████████▋      | 1.3 MB 25.5 MB/s eta 0:00:01\r\u001b[K     |█████████████████████████▉      | 1.3 MB 25.5 MB/s eta 0:00:01\r\u001b[K     |██████████████████████████      | 1.3 MB 25.5 MB/s eta 0:00:01\r\u001b[K     |██████████████████████████▏     | 1.4 MB 25.5 MB/s eta 0:00:01\r\u001b[K     |██████████████████████████▍     | 1.4 MB 25.5 MB/s eta 0:00:01\r\u001b[K     |██████████████████████████▋     | 1.4 MB 25.5 MB/s eta 0:00:01\r\u001b[K     |██████████████████████████▉     | 1.4 MB 25.5 MB/s eta 0:00:01\r\u001b[K     |███████████████████████████     | 1.4 MB 25.5 MB/s eta 0:00:01\r\u001b[K     |███████████████████████████▏    | 1.4 MB 25.5 MB/s eta 0:00:01\r\u001b[K     |███████████████████████████▍    | 1.4 MB 25.5 MB/s eta 0:00:01\r\u001b[K     |███████████████████████████▋    | 1.4 MB 25.5 MB/s eta 0:00:01\r\u001b[K     |███████████████████████████▊    | 1.4 MB 25.5 MB/s eta 0:00:01\r\u001b[K     |████████████████████████████    | 1.4 MB 25.5 MB/s eta 0:00:01\r\u001b[K     |████████████████████████████▏   | 1.5 MB 25.5 MB/s eta 0:00:01\r\u001b[K     |████████████████████████████▍   | 1.5 MB 25.5 MB/s eta 0:00:01\r\u001b[K     |████████████████████████████▋   | 1.5 MB 25.5 MB/s eta 0:00:01\r\u001b[K     |████████████████████████████▊   | 1.5 MB 25.5 MB/s eta 0:00:01\r\u001b[K     |█████████████████████████████   | 1.5 MB 25.5 MB/s eta 0:00:01\r\u001b[K     |█████████████████████████████▏  | 1.5 MB 25.5 MB/s eta 0:00:01\r\u001b[K     |█████████████████████████████▍  | 1.5 MB 25.5 MB/s eta 0:00:01\r\u001b[K     |█████████████████████████████▋  | 1.5 MB 25.5 MB/s eta 0:00:01\r\u001b[K     |█████████████████████████████▊  | 1.5 MB 25.5 MB/s eta 0:00:01\r\u001b[K     |██████████████████████████████  | 1.5 MB 25.5 MB/s eta 0:00:01\r\u001b[K     |██████████████████████████████▏ | 1.6 MB 25.5 MB/s eta 0:00:01\r\u001b[K     |██████████████████████████████▍ | 1.6 MB 25.5 MB/s eta 0:00:01\r\u001b[K     |██████████████████████████████▌ | 1.6 MB 25.5 MB/s eta 0:00:01\r\u001b[K     |██████████████████████████████▊ | 1.6 MB 25.5 MB/s eta 0:00:01\r\u001b[K     |███████████████████████████████ | 1.6 MB 25.5 MB/s eta 0:00:01\r\u001b[K     |███████████████████████████████▏| 1.6 MB 25.5 MB/s eta 0:00:01\r\u001b[K     |███████████████████████████████▍| 1.6 MB 25.5 MB/s eta 0:00:01\r\u001b[K     |███████████████████████████████▌| 1.6 MB 25.5 MB/s eta 0:00:01\r\u001b[K     |███████████████████████████████▊| 1.6 MB 25.5 MB/s eta 0:00:01\r\u001b[K     |████████████████████████████████| 1.6 MB 25.5 MB/s eta 0:00:01\r\u001b[K     |████████████████████████████████| 1.7 MB 25.5 MB/s \n",
            "\u001b[?25hRequirement already satisfied: wheel>=0.23.0 in /usr/local/lib/python3.7/dist-packages (from pyldavis==3.2.1) (0.37.1)\n",
            "Requirement already satisfied: numpy>=1.9.2 in /usr/local/lib/python3.7/dist-packages (from pyldavis==3.2.1) (1.21.6)\n",
            "Requirement already satisfied: scipy>=0.18.0 in /usr/local/lib/python3.7/dist-packages (from pyldavis==3.2.1) (1.4.1)\n",
            "Requirement already satisfied: joblib>=0.8.4 in /usr/local/lib/python3.7/dist-packages (from pyldavis==3.2.1) (1.1.0)\n",
            "Requirement already satisfied: jinja2>=2.7.2 in /usr/local/lib/python3.7/dist-packages (from pyldavis==3.2.1) (2.11.3)\n",
            "Requirement already satisfied: numexpr in /usr/local/lib/python3.7/dist-packages (from pyldavis==3.2.1) (2.8.1)\n",
            "Requirement already satisfied: future in /usr/local/lib/python3.7/dist-packages (from pyldavis==3.2.1) (0.16.0)\n",
            "Collecting funcy\n",
            "  Downloading funcy-1.17-py2.py3-none-any.whl (33 kB)\n",
            "Requirement already satisfied: pandas>=0.17.0 in /usr/local/lib/python3.7/dist-packages (from pyldavis==3.2.1) (1.3.5)\n",
            "Requirement already satisfied: MarkupSafe>=0.23 in /usr/local/lib/python3.7/dist-packages (from jinja2>=2.7.2->pyldavis==3.2.1) (2.0.1)\n",
            "Requirement already satisfied: pytz>=2017.3 in /usr/local/lib/python3.7/dist-packages (from pandas>=0.17.0->pyldavis==3.2.1) (2022.1)\n",
            "Requirement already satisfied: python-dateutil>=2.7.3 in /usr/local/lib/python3.7/dist-packages (from pandas>=0.17.0->pyldavis==3.2.1) (2.8.2)\n",
            "Requirement already satisfied: six>=1.5 in /usr/local/lib/python3.7/dist-packages (from python-dateutil>=2.7.3->pandas>=0.17.0->pyldavis==3.2.1) (1.15.0)\n",
            "Requirement already satisfied: packaging in /usr/local/lib/python3.7/dist-packages (from numexpr->pyldavis==3.2.1) (21.3)\n",
            "Requirement already satisfied: pyparsing!=3.0.5,>=2.0.2 in /usr/local/lib/python3.7/dist-packages (from packaging->numexpr->pyldavis==3.2.1) (3.0.8)\n",
            "Building wheels for collected packages: pyldavis\n",
            "  Building wheel for pyldavis (setup.py) ... \u001b[?25l\u001b[?25hdone\n",
            "  Created wheel for pyldavis: filename=pyLDAvis-3.2.1-py2.py3-none-any.whl size=136187 sha256=6526fde65ff1dea1da973659d5d80d9444734076739be44b7e0dfb80317820fc\n",
            "  Stored in directory: /root/.cache/pip/wheels/c6/ee/a6/7c17a63623f940dff0b9cbd7e48a27543f088fa55a7d2b62d0\n",
            "Successfully built pyldavis\n",
            "Installing collected packages: funcy, pyldavis\n",
            "Successfully installed funcy-1.17 pyldavis-3.2.1\n"
          ]
        }
      ]
    },
    {
      "cell_type": "code",
      "metadata": {
        "id": "RZFgf793QUdr",
        "colab": {
          "base_uri": "https://localhost:8080/"
        },
        "outputId": "6dab541b-f184-43eb-efa7-d978bbb132c8"
      },
      "source": [
        "pip install Sastrawi"
      ],
      "execution_count": null,
      "outputs": [
        {
          "output_type": "stream",
          "name": "stdout",
          "text": [
            "Collecting Sastrawi\n",
            "  Downloading Sastrawi-1.0.1-py2.py3-none-any.whl (209 kB)\n",
            "\u001b[?25l\r\u001b[K     |█▋                              | 10 kB 34.2 MB/s eta 0:00:01\r\u001b[K     |███▏                            | 20 kB 38.2 MB/s eta 0:00:01\r\u001b[K     |████▊                           | 30 kB 38.1 MB/s eta 0:00:01\r\u001b[K     |██████▎                         | 40 kB 26.2 MB/s eta 0:00:01\r\u001b[K     |███████▉                        | 51 kB 21.4 MB/s eta 0:00:01\r\u001b[K     |█████████▍                      | 61 kB 24.3 MB/s eta 0:00:01\r\u001b[K     |███████████                     | 71 kB 23.1 MB/s eta 0:00:01\r\u001b[K     |████████████▌                   | 81 kB 24.5 MB/s eta 0:00:01\r\u001b[K     |██████████████                  | 92 kB 26.1 MB/s eta 0:00:01\r\u001b[K     |███████████████▋                | 102 kB 24.1 MB/s eta 0:00:01\r\u001b[K     |█████████████████▏              | 112 kB 24.1 MB/s eta 0:00:01\r\u001b[K     |██████████████████▊             | 122 kB 24.1 MB/s eta 0:00:01\r\u001b[K     |████████████████████▎           | 133 kB 24.1 MB/s eta 0:00:01\r\u001b[K     |█████████████████████▉          | 143 kB 24.1 MB/s eta 0:00:01\r\u001b[K     |███████████████████████▍        | 153 kB 24.1 MB/s eta 0:00:01\r\u001b[K     |█████████████████████████       | 163 kB 24.1 MB/s eta 0:00:01\r\u001b[K     |██████████████████████████▋     | 174 kB 24.1 MB/s eta 0:00:01\r\u001b[K     |████████████████████████████▏   | 184 kB 24.1 MB/s eta 0:00:01\r\u001b[K     |█████████████████████████████▊  | 194 kB 24.1 MB/s eta 0:00:01\r\u001b[K     |███████████████████████████████▎| 204 kB 24.1 MB/s eta 0:00:01\r\u001b[K     |████████████████████████████████| 209 kB 24.1 MB/s \n",
            "\u001b[?25hInstalling collected packages: Sastrawi\n",
            "Successfully installed Sastrawi-1.0.1\n"
          ]
        }
      ]
    },
    {
      "cell_type": "code",
      "metadata": {
        "id": "8qR4cmyvQbNf",
        "colab": {
          "base_uri": "https://localhost:8080/",
          "height": 1000
        },
        "outputId": "d29908be-6498-448e-f4fb-52dae7c13faa"
      },
      "source": [
        "pip install swifter"
      ],
      "execution_count": null,
      "outputs": [
        {
          "output_type": "stream",
          "name": "stdout",
          "text": [
            "Collecting swifter\n",
            "  Downloading swifter-1.1.3.tar.gz (647 kB)\n",
            "\u001b[?25l\r\u001b[K     |▌                               | 10 kB 34.7 MB/s eta 0:00:01\r\u001b[K     |█                               | 20 kB 34.1 MB/s eta 0:00:01\r\u001b[K     |█▌                              | 30 kB 38.4 MB/s eta 0:00:01\r\u001b[K     |██                              | 40 kB 28.9 MB/s eta 0:00:01\r\u001b[K     |██▌                             | 51 kB 30.7 MB/s eta 0:00:01\r\u001b[K     |███                             | 61 kB 34.3 MB/s eta 0:00:01\r\u001b[K     |███▌                            | 71 kB 24.8 MB/s eta 0:00:01\r\u001b[K     |████                            | 81 kB 26.1 MB/s eta 0:00:01\r\u001b[K     |████▋                           | 92 kB 28.1 MB/s eta 0:00:01\r\u001b[K     |█████                           | 102 kB 27.1 MB/s eta 0:00:01\r\u001b[K     |█████▋                          | 112 kB 27.1 MB/s eta 0:00:01\r\u001b[K     |██████                          | 122 kB 27.1 MB/s eta 0:00:01\r\u001b[K     |██████▋                         | 133 kB 27.1 MB/s eta 0:00:01\r\u001b[K     |███████                         | 143 kB 27.1 MB/s eta 0:00:01\r\u001b[K     |███████▋                        | 153 kB 27.1 MB/s eta 0:00:01\r\u001b[K     |████████                        | 163 kB 27.1 MB/s eta 0:00:01\r\u001b[K     |████████▋                       | 174 kB 27.1 MB/s eta 0:00:01\r\u001b[K     |█████████▏                      | 184 kB 27.1 MB/s eta 0:00:01\r\u001b[K     |█████████▋                      | 194 kB 27.1 MB/s eta 0:00:01\r\u001b[K     |██████████▏                     | 204 kB 27.1 MB/s eta 0:00:01\r\u001b[K     |██████████▋                     | 215 kB 27.1 MB/s eta 0:00:01\r\u001b[K     |███████████▏                    | 225 kB 27.1 MB/s eta 0:00:01\r\u001b[K     |███████████▋                    | 235 kB 27.1 MB/s eta 0:00:01\r\u001b[K     |████████████▏                   | 245 kB 27.1 MB/s eta 0:00:01\r\u001b[K     |████████████▋                   | 256 kB 27.1 MB/s eta 0:00:01\r\u001b[K     |█████████████▏                  | 266 kB 27.1 MB/s eta 0:00:01\r\u001b[K     |█████████████▊                  | 276 kB 27.1 MB/s eta 0:00:01\r\u001b[K     |██████████████▏                 | 286 kB 27.1 MB/s eta 0:00:01\r\u001b[K     |██████████████▊                 | 296 kB 27.1 MB/s eta 0:00:01\r\u001b[K     |███████████████▏                | 307 kB 27.1 MB/s eta 0:00:01\r\u001b[K     |███████████████▊                | 317 kB 27.1 MB/s eta 0:00:01\r\u001b[K     |████████████████▏               | 327 kB 27.1 MB/s eta 0:00:01\r\u001b[K     |████████████████▊               | 337 kB 27.1 MB/s eta 0:00:01\r\u001b[K     |█████████████████▏              | 348 kB 27.1 MB/s eta 0:00:01\r\u001b[K     |█████████████████▊              | 358 kB 27.1 MB/s eta 0:00:01\r\u001b[K     |██████████████████▎             | 368 kB 27.1 MB/s eta 0:00:01\r\u001b[K     |██████████████████▊             | 378 kB 27.1 MB/s eta 0:00:01\r\u001b[K     |███████████████████▎            | 389 kB 27.1 MB/s eta 0:00:01\r\u001b[K     |███████████████████▊            | 399 kB 27.1 MB/s eta 0:00:01\r\u001b[K     |████████████████████▎           | 409 kB 27.1 MB/s eta 0:00:01\r\u001b[K     |████████████████████▊           | 419 kB 27.1 MB/s eta 0:00:01\r\u001b[K     |█████████████████████▎          | 430 kB 27.1 MB/s eta 0:00:01\r\u001b[K     |█████████████████████▊          | 440 kB 27.1 MB/s eta 0:00:01\r\u001b[K     |██████████████████████▎         | 450 kB 27.1 MB/s eta 0:00:01\r\u001b[K     |██████████████████████▉         | 460 kB 27.1 MB/s eta 0:00:01\r\u001b[K     |███████████████████████▎        | 471 kB 27.1 MB/s eta 0:00:01\r\u001b[K     |███████████████████████▉        | 481 kB 27.1 MB/s eta 0:00:01\r\u001b[K     |████████████████████████▎       | 491 kB 27.1 MB/s eta 0:00:01\r\u001b[K     |████████████████████████▉       | 501 kB 27.1 MB/s eta 0:00:01\r\u001b[K     |█████████████████████████▎      | 512 kB 27.1 MB/s eta 0:00:01\r\u001b[K     |█████████████████████████▉      | 522 kB 27.1 MB/s eta 0:00:01\r\u001b[K     |██████████████████████████▍     | 532 kB 27.1 MB/s eta 0:00:01\r\u001b[K     |██████████████████████████▉     | 542 kB 27.1 MB/s eta 0:00:01\r\u001b[K     |███████████████████████████▍    | 552 kB 27.1 MB/s eta 0:00:01\r\u001b[K     |███████████████████████████▉    | 563 kB 27.1 MB/s eta 0:00:01\r\u001b[K     |████████████████████████████▍   | 573 kB 27.1 MB/s eta 0:00:01\r\u001b[K     |████████████████████████████▉   | 583 kB 27.1 MB/s eta 0:00:01\r\u001b[K     |█████████████████████████████▍  | 593 kB 27.1 MB/s eta 0:00:01\r\u001b[K     |█████████████████████████████▉  | 604 kB 27.1 MB/s eta 0:00:01\r\u001b[K     |██████████████████████████████▍ | 614 kB 27.1 MB/s eta 0:00:01\r\u001b[K     |███████████████████████████████ | 624 kB 27.1 MB/s eta 0:00:01\r\u001b[K     |███████████████████████████████▍| 634 kB 27.1 MB/s eta 0:00:01\r\u001b[K     |████████████████████████████████| 645 kB 27.1 MB/s eta 0:00:01\r\u001b[K     |████████████████████████████████| 647 kB 27.1 MB/s \n",
            "\u001b[?25hRequirement already satisfied: pandas>=1.0.0 in /usr/local/lib/python3.7/dist-packages (from swifter) (1.3.5)\n",
            "Collecting psutil>=5.6.6\n",
            "  Downloading psutil-5.9.0-cp37-cp37m-manylinux_2_12_x86_64.manylinux2010_x86_64.manylinux_2_17_x86_64.manylinux2014_x86_64.whl (280 kB)\n",
            "\u001b[K     |████████████████████████████████| 280 kB 64.8 MB/s \n",
            "\u001b[?25hRequirement already satisfied: dask[dataframe]>=2.10.0 in /usr/local/lib/python3.7/dist-packages (from swifter) (2.12.0)\n",
            "Requirement already satisfied: tqdm>=4.33.0 in /usr/local/lib/python3.7/dist-packages (from swifter) (4.64.0)\n",
            "Requirement already satisfied: ipywidgets>=7.0.0 in /usr/local/lib/python3.7/dist-packages (from swifter) (7.7.0)\n",
            "Requirement already satisfied: cloudpickle>=0.2.2 in /usr/local/lib/python3.7/dist-packages (from swifter) (1.3.0)\n",
            "Requirement already satisfied: parso>0.4.0 in /usr/local/lib/python3.7/dist-packages (from swifter) (0.8.3)\n",
            "Requirement already satisfied: bleach>=3.1.1 in /usr/local/lib/python3.7/dist-packages (from swifter) (5.0.0)\n",
            "Requirement already satisfied: six>=1.9.0 in /usr/local/lib/python3.7/dist-packages (from bleach>=3.1.1->swifter) (1.15.0)\n",
            "Requirement already satisfied: webencodings in /usr/local/lib/python3.7/dist-packages (from bleach>=3.1.1->swifter) (0.5.1)\n",
            "Collecting fsspec>=0.6.0\n",
            "  Downloading fsspec-2022.3.0-py3-none-any.whl (136 kB)\n",
            "\u001b[K     |████████████████████████████████| 136 kB 58.4 MB/s \n",
            "\u001b[?25hRequirement already satisfied: toolz>=0.7.3 in /usr/local/lib/python3.7/dist-packages (from dask[dataframe]>=2.10.0->swifter) (0.11.2)\n",
            "Requirement already satisfied: numpy>=1.13.0 in /usr/local/lib/python3.7/dist-packages (from dask[dataframe]>=2.10.0->swifter) (1.21.6)\n",
            "Collecting partd>=0.3.10\n",
            "  Downloading partd-1.2.0-py3-none-any.whl (19 kB)\n",
            "Requirement already satisfied: ipython>=4.0.0 in /usr/local/lib/python3.7/dist-packages (from ipywidgets>=7.0.0->swifter) (5.5.0)\n",
            "Requirement already satisfied: jupyterlab-widgets>=1.0.0 in /usr/local/lib/python3.7/dist-packages (from ipywidgets>=7.0.0->swifter) (1.1.0)\n",
            "Requirement already satisfied: nbformat>=4.2.0 in /usr/local/lib/python3.7/dist-packages (from ipywidgets>=7.0.0->swifter) (5.3.0)\n",
            "Requirement already satisfied: ipykernel>=4.5.1 in /usr/local/lib/python3.7/dist-packages (from ipywidgets>=7.0.0->swifter) (4.10.1)\n",
            "Requirement already satisfied: widgetsnbextension~=3.6.0 in /usr/local/lib/python3.7/dist-packages (from ipywidgets>=7.0.0->swifter) (3.6.0)\n",
            "Requirement already satisfied: ipython-genutils~=0.2.0 in /usr/local/lib/python3.7/dist-packages (from ipywidgets>=7.0.0->swifter) (0.2.0)\n",
            "Requirement already satisfied: traitlets>=4.3.1 in /usr/local/lib/python3.7/dist-packages (from ipywidgets>=7.0.0->swifter) (5.1.1)\n",
            "Requirement already satisfied: tornado>=4.0 in /usr/local/lib/python3.7/dist-packages (from ipykernel>=4.5.1->ipywidgets>=7.0.0->swifter) (5.1.1)\n",
            "Requirement already satisfied: jupyter-client in /usr/local/lib/python3.7/dist-packages (from ipykernel>=4.5.1->ipywidgets>=7.0.0->swifter) (5.3.5)\n",
            "Requirement already satisfied: setuptools>=18.5 in /usr/local/lib/python3.7/dist-packages (from ipython>=4.0.0->ipywidgets>=7.0.0->swifter) (57.4.0)\n",
            "Requirement already satisfied: pexpect in /usr/local/lib/python3.7/dist-packages (from ipython>=4.0.0->ipywidgets>=7.0.0->swifter) (4.8.0)\n",
            "Requirement already satisfied: prompt-toolkit<2.0.0,>=1.0.4 in /usr/local/lib/python3.7/dist-packages (from ipython>=4.0.0->ipywidgets>=7.0.0->swifter) (1.0.18)\n",
            "Requirement already satisfied: pickleshare in /usr/local/lib/python3.7/dist-packages (from ipython>=4.0.0->ipywidgets>=7.0.0->swifter) (0.7.5)\n",
            "Requirement already satisfied: decorator in /usr/local/lib/python3.7/dist-packages (from ipython>=4.0.0->ipywidgets>=7.0.0->swifter) (4.4.2)\n",
            "Requirement already satisfied: simplegeneric>0.8 in /usr/local/lib/python3.7/dist-packages (from ipython>=4.0.0->ipywidgets>=7.0.0->swifter) (0.8.1)\n",
            "Requirement already satisfied: pygments in /usr/local/lib/python3.7/dist-packages (from ipython>=4.0.0->ipywidgets>=7.0.0->swifter) (2.6.1)\n",
            "Requirement already satisfied: fastjsonschema in /usr/local/lib/python3.7/dist-packages (from nbformat>=4.2.0->ipywidgets>=7.0.0->swifter) (2.15.3)\n",
            "Requirement already satisfied: jupyter-core in /usr/local/lib/python3.7/dist-packages (from nbformat>=4.2.0->ipywidgets>=7.0.0->swifter) (4.10.0)\n",
            "Requirement already satisfied: jsonschema>=2.6 in /usr/local/lib/python3.7/dist-packages (from nbformat>=4.2.0->ipywidgets>=7.0.0->swifter) (4.3.3)\n",
            "Requirement already satisfied: importlib-resources>=1.4.0 in /usr/local/lib/python3.7/dist-packages (from jsonschema>=2.6->nbformat>=4.2.0->ipywidgets>=7.0.0->swifter) (5.7.1)\n",
            "Requirement already satisfied: typing-extensions in /usr/local/lib/python3.7/dist-packages (from jsonschema>=2.6->nbformat>=4.2.0->ipywidgets>=7.0.0->swifter) (4.2.0)\n",
            "Requirement already satisfied: pyrsistent!=0.17.0,!=0.17.1,!=0.17.2,>=0.14.0 in /usr/local/lib/python3.7/dist-packages (from jsonschema>=2.6->nbformat>=4.2.0->ipywidgets>=7.0.0->swifter) (0.18.1)\n",
            "Requirement already satisfied: attrs>=17.4.0 in /usr/local/lib/python3.7/dist-packages (from jsonschema>=2.6->nbformat>=4.2.0->ipywidgets>=7.0.0->swifter) (21.4.0)\n",
            "Requirement already satisfied: importlib-metadata in /usr/local/lib/python3.7/dist-packages (from jsonschema>=2.6->nbformat>=4.2.0->ipywidgets>=7.0.0->swifter) (4.11.3)\n",
            "Requirement already satisfied: zipp>=3.1.0 in /usr/local/lib/python3.7/dist-packages (from importlib-resources>=1.4.0->jsonschema>=2.6->nbformat>=4.2.0->ipywidgets>=7.0.0->swifter) (3.8.0)\n",
            "Requirement already satisfied: python-dateutil>=2.7.3 in /usr/local/lib/python3.7/dist-packages (from pandas>=1.0.0->swifter) (2.8.2)\n",
            "Requirement already satisfied: pytz>=2017.3 in /usr/local/lib/python3.7/dist-packages (from pandas>=1.0.0->swifter) (2022.1)\n",
            "Collecting locket\n",
            "  Downloading locket-1.0.0-py2.py3-none-any.whl (4.4 kB)\n",
            "Requirement already satisfied: wcwidth in /usr/local/lib/python3.7/dist-packages (from prompt-toolkit<2.0.0,>=1.0.4->ipython>=4.0.0->ipywidgets>=7.0.0->swifter) (0.2.5)\n",
            "Requirement already satisfied: notebook>=4.4.1 in /usr/local/lib/python3.7/dist-packages (from widgetsnbextension~=3.6.0->ipywidgets>=7.0.0->swifter) (5.3.1)\n",
            "Requirement already satisfied: Send2Trash in /usr/local/lib/python3.7/dist-packages (from notebook>=4.4.1->widgetsnbextension~=3.6.0->ipywidgets>=7.0.0->swifter) (1.8.0)\n",
            "Requirement already satisfied: nbconvert in /usr/local/lib/python3.7/dist-packages (from notebook>=4.4.1->widgetsnbextension~=3.6.0->ipywidgets>=7.0.0->swifter) (5.6.1)\n",
            "Requirement already satisfied: terminado>=0.8.1 in /usr/local/lib/python3.7/dist-packages (from notebook>=4.4.1->widgetsnbextension~=3.6.0->ipywidgets>=7.0.0->swifter) (0.13.3)\n",
            "Requirement already satisfied: jinja2 in /usr/local/lib/python3.7/dist-packages (from notebook>=4.4.1->widgetsnbextension~=3.6.0->ipywidgets>=7.0.0->swifter) (2.11.3)\n",
            "Requirement already satisfied: pyzmq>=13 in /usr/local/lib/python3.7/dist-packages (from jupyter-client->ipykernel>=4.5.1->ipywidgets>=7.0.0->swifter) (22.3.0)\n",
            "Requirement already satisfied: ptyprocess in /usr/local/lib/python3.7/dist-packages (from terminado>=0.8.1->notebook>=4.4.1->widgetsnbextension~=3.6.0->ipywidgets>=7.0.0->swifter) (0.7.0)\n",
            "Requirement already satisfied: MarkupSafe>=0.23 in /usr/local/lib/python3.7/dist-packages (from jinja2->notebook>=4.4.1->widgetsnbextension~=3.6.0->ipywidgets>=7.0.0->swifter) (2.0.1)\n",
            "Requirement already satisfied: pandocfilters>=1.4.1 in /usr/local/lib/python3.7/dist-packages (from nbconvert->notebook>=4.4.1->widgetsnbextension~=3.6.0->ipywidgets>=7.0.0->swifter) (1.5.0)\n",
            "Requirement already satisfied: testpath in /usr/local/lib/python3.7/dist-packages (from nbconvert->notebook>=4.4.1->widgetsnbextension~=3.6.0->ipywidgets>=7.0.0->swifter) (0.6.0)\n",
            "Requirement already satisfied: defusedxml in /usr/local/lib/python3.7/dist-packages (from nbconvert->notebook>=4.4.1->widgetsnbextension~=3.6.0->ipywidgets>=7.0.0->swifter) (0.7.1)\n",
            "Requirement already satisfied: mistune<2,>=0.8.1 in /usr/local/lib/python3.7/dist-packages (from nbconvert->notebook>=4.4.1->widgetsnbextension~=3.6.0->ipywidgets>=7.0.0->swifter) (0.8.4)\n",
            "Requirement already satisfied: entrypoints>=0.2.2 in /usr/local/lib/python3.7/dist-packages (from nbconvert->notebook>=4.4.1->widgetsnbextension~=3.6.0->ipywidgets>=7.0.0->swifter) (0.4)\n",
            "Building wheels for collected packages: swifter\n",
            "  Building wheel for swifter (setup.py) ... \u001b[?25l\u001b[?25hdone\n",
            "  Created wheel for swifter: filename=swifter-1.1.3-py3-none-any.whl size=13078 sha256=4aa46e84433d60bf774516503588a877a19ba40d0132c984f314dfbb08c7ad46\n",
            "  Stored in directory: /root/.cache/pip/wheels/e8/1a/1b/46aa7b0fac16d3ce1bccaac14bfe4fad972642217ae78d8160\n",
            "Successfully built swifter\n",
            "Installing collected packages: locket, partd, fsspec, psutil, swifter\n",
            "  Attempting uninstall: psutil\n",
            "    Found existing installation: psutil 5.4.8\n",
            "    Uninstalling psutil-5.4.8:\n",
            "      Successfully uninstalled psutil-5.4.8\n",
            "Successfully installed fsspec-2022.3.0 locket-1.0.0 partd-1.2.0 psutil-5.9.0 swifter-1.1.3\n"
          ]
        },
        {
          "output_type": "display_data",
          "data": {
            "application/vnd.colab-display-data+json": {
              "pip_warning": {
                "packages": [
                  "psutil"
                ]
              }
            }
          },
          "metadata": {}
        }
      ]
    },
    {
      "cell_type": "markdown",
      "metadata": {
        "id": "L7coo48jufYT"
      },
      "source": [
        "# Preparing Data"
      ]
    },
    {
      "cell_type": "code",
      "metadata": {
        "id": "-3S6Z9dmMiRs"
      },
      "source": [
        "import pandas as pd \n",
        "import numpy as np\n",
        "import nltk"
      ],
      "execution_count": null,
      "outputs": []
    },
    {
      "cell_type": "code",
      "metadata": {
        "colab": {
          "base_uri": "https://localhost:8080/",
          "height": 206
        },
        "id": "7LD0Z87lNAIs",
        "outputId": "00cd6a6e-5af5-46fa-a132-e3676f65d5c5"
      },
      "source": [
        "dataSB = pd.read_csv('/cleaning_data_final.csv')\n",
        "\n",
        "dataSB.head()"
      ],
      "execution_count": null,
      "outputs": [
        {
          "output_type": "execute_result",
          "data": {
            "text/plain": [
              "                                               tweet\n",
              "0  ape ye kata linjur tinggal komat kamit lolos o...\n",
              "1  ptm alesannya dapet uang jajan gampang msi nge...\n",
              "2  this lumayan rajin ngumpul tugas ofc caper gur...\n",
              "3  hikss samaa puas waktu jawabin tremor jdi gagu...\n",
              "4                      ngapalin nyatet kadang kadang"
            ],
            "text/html": [
              "\n",
              "  <div id=\"df-d50a8e3c-d1f4-480d-b764-5a5c83411fa7\">\n",
              "    <div class=\"colab-df-container\">\n",
              "      <div>\n",
              "<style scoped>\n",
              "    .dataframe tbody tr th:only-of-type {\n",
              "        vertical-align: middle;\n",
              "    }\n",
              "\n",
              "    .dataframe tbody tr th {\n",
              "        vertical-align: top;\n",
              "    }\n",
              "\n",
              "    .dataframe thead th {\n",
              "        text-align: right;\n",
              "    }\n",
              "</style>\n",
              "<table border=\"1\" class=\"dataframe\">\n",
              "  <thead>\n",
              "    <tr style=\"text-align: right;\">\n",
              "      <th></th>\n",
              "      <th>tweet</th>\n",
              "    </tr>\n",
              "  </thead>\n",
              "  <tbody>\n",
              "    <tr>\n",
              "      <th>0</th>\n",
              "      <td>ape ye kata linjur tinggal komat kamit lolos o...</td>\n",
              "    </tr>\n",
              "    <tr>\n",
              "      <th>1</th>\n",
              "      <td>ptm alesannya dapet uang jajan gampang msi nge...</td>\n",
              "    </tr>\n",
              "    <tr>\n",
              "      <th>2</th>\n",
              "      <td>this lumayan rajin ngumpul tugas ofc caper gur...</td>\n",
              "    </tr>\n",
              "    <tr>\n",
              "      <th>3</th>\n",
              "      <td>hikss samaa puas waktu jawabin tremor jdi gagu...</td>\n",
              "    </tr>\n",
              "    <tr>\n",
              "      <th>4</th>\n",
              "      <td>ngapalin nyatet kadang kadang</td>\n",
              "    </tr>\n",
              "  </tbody>\n",
              "</table>\n",
              "</div>\n",
              "      <button class=\"colab-df-convert\" onclick=\"convertToInteractive('df-d50a8e3c-d1f4-480d-b764-5a5c83411fa7')\"\n",
              "              title=\"Convert this dataframe to an interactive table.\"\n",
              "              style=\"display:none;\">\n",
              "        \n",
              "  <svg xmlns=\"http://www.w3.org/2000/svg\" height=\"24px\"viewBox=\"0 0 24 24\"\n",
              "       width=\"24px\">\n",
              "    <path d=\"M0 0h24v24H0V0z\" fill=\"none\"/>\n",
              "    <path d=\"M18.56 5.44l.94 2.06.94-2.06 2.06-.94-2.06-.94-.94-2.06-.94 2.06-2.06.94zm-11 1L8.5 8.5l.94-2.06 2.06-.94-2.06-.94L8.5 2.5l-.94 2.06-2.06.94zm10 10l.94 2.06.94-2.06 2.06-.94-2.06-.94-.94-2.06-.94 2.06-2.06.94z\"/><path d=\"M17.41 7.96l-1.37-1.37c-.4-.4-.92-.59-1.43-.59-.52 0-1.04.2-1.43.59L10.3 9.45l-7.72 7.72c-.78.78-.78 2.05 0 2.83L4 21.41c.39.39.9.59 1.41.59.51 0 1.02-.2 1.41-.59l7.78-7.78 2.81-2.81c.8-.78.8-2.07 0-2.86zM5.41 20L4 18.59l7.72-7.72 1.47 1.35L5.41 20z\"/>\n",
              "  </svg>\n",
              "      </button>\n",
              "      \n",
              "  <style>\n",
              "    .colab-df-container {\n",
              "      display:flex;\n",
              "      flex-wrap:wrap;\n",
              "      gap: 12px;\n",
              "    }\n",
              "\n",
              "    .colab-df-convert {\n",
              "      background-color: #E8F0FE;\n",
              "      border: none;\n",
              "      border-radius: 50%;\n",
              "      cursor: pointer;\n",
              "      display: none;\n",
              "      fill: #1967D2;\n",
              "      height: 32px;\n",
              "      padding: 0 0 0 0;\n",
              "      width: 32px;\n",
              "    }\n",
              "\n",
              "    .colab-df-convert:hover {\n",
              "      background-color: #E2EBFA;\n",
              "      box-shadow: 0px 1px 2px rgba(60, 64, 67, 0.3), 0px 1px 3px 1px rgba(60, 64, 67, 0.15);\n",
              "      fill: #174EA6;\n",
              "    }\n",
              "\n",
              "    [theme=dark] .colab-df-convert {\n",
              "      background-color: #3B4455;\n",
              "      fill: #D2E3FC;\n",
              "    }\n",
              "\n",
              "    [theme=dark] .colab-df-convert:hover {\n",
              "      background-color: #434B5C;\n",
              "      box-shadow: 0px 1px 3px 1px rgba(0, 0, 0, 0.15);\n",
              "      filter: drop-shadow(0px 1px 2px rgba(0, 0, 0, 0.3));\n",
              "      fill: #FFFFFF;\n",
              "    }\n",
              "  </style>\n",
              "\n",
              "      <script>\n",
              "        const buttonEl =\n",
              "          document.querySelector('#df-d50a8e3c-d1f4-480d-b764-5a5c83411fa7 button.colab-df-convert');\n",
              "        buttonEl.style.display =\n",
              "          google.colab.kernel.accessAllowed ? 'block' : 'none';\n",
              "\n",
              "        async function convertToInteractive(key) {\n",
              "          const element = document.querySelector('#df-d50a8e3c-d1f4-480d-b764-5a5c83411fa7');\n",
              "          const dataTable =\n",
              "            await google.colab.kernel.invokeFunction('convertToInteractive',\n",
              "                                                     [key], {});\n",
              "          if (!dataTable) return;\n",
              "\n",
              "          const docLinkHtml = 'Like what you see? Visit the ' +\n",
              "            '<a target=\"_blank\" href=https://colab.research.google.com/notebooks/data_table.ipynb>data table notebook</a>'\n",
              "            + ' to learn more about interactive tables.';\n",
              "          element.innerHTML = '';\n",
              "          dataTable['output_type'] = 'display_data';\n",
              "          await google.colab.output.renderOutput(dataTable, element);\n",
              "          const docLink = document.createElement('div');\n",
              "          docLink.innerHTML = docLinkHtml;\n",
              "          element.appendChild(docLink);\n",
              "        }\n",
              "      </script>\n",
              "    </div>\n",
              "  </div>\n",
              "  "
            ]
          },
          "metadata": {},
          "execution_count": 6
        }
      ]
    },
    {
      "cell_type": "code",
      "source": [
        "from google.colab import drive\n",
        "drive.mount('/content/drive')"
      ],
      "metadata": {
        "colab": {
          "base_uri": "https://localhost:8080/"
        },
        "id": "O77nC-NSfjA9",
        "outputId": "18c7ba0b-8f61-4402-8ce6-08bc566feef5"
      },
      "execution_count": null,
      "outputs": [
        {
          "output_type": "stream",
          "name": "stdout",
          "text": [
            "Mounted at /content/drive\n"
          ]
        }
      ]
    },
    {
      "cell_type": "code",
      "metadata": {
        "colab": {
          "base_uri": "https://localhost:8080/"
        },
        "id": "Ir6LW2PuN7dw",
        "outputId": "53594eb5-4cc4-43be-bc88-4e86b24ba266"
      },
      "source": [
        "dataSB['tweet'] = dataSB['tweet'].str.lower()\n",
        "\n",
        "print('Case Folding Result : \\n')\n",
        "print(dataSB['tweet'].head(5))"
      ],
      "execution_count": null,
      "outputs": [
        {
          "output_type": "stream",
          "name": "stdout",
          "text": [
            "Case Folding Result : \n",
            "\n",
            "0    ape ye kata linjur tinggal komat kamit lolos o...\n",
            "1    ptm alesannya dapet uang jajan gampang msi nge...\n",
            "2    this lumayan rajin ngumpul tugas ofc caper gur...\n",
            "3    hikss samaa puas waktu jawabin tremor jdi gagu...\n",
            "4                        ngapalin nyatet kadang kadang\n",
            "Name: tweet, dtype: object\n"
          ]
        }
      ]
    },
    {
      "cell_type": "markdown",
      "metadata": {
        "id": "6QHEcQNluwc2"
      },
      "source": [
        "# Tokenizing\n",
        "\n",
        "Menghapus karakter-karakter yang tidak penting dari text"
      ]
    },
    {
      "cell_type": "code",
      "metadata": {
        "id": "bRMi74w-OKjC"
      },
      "source": [
        "import string \n",
        "import re #regex library\n",
        "\n",
        "# import word_tokenize & FreqDist from NLTK\n",
        "from nltk.tokenize import word_tokenize \n",
        "from nltk.probability import FreqDist"
      ],
      "execution_count": null,
      "outputs": []
    },
    {
      "cell_type": "code",
      "metadata": {
        "id": "Tz06NMSjdPSt",
        "colab": {
          "base_uri": "https://localhost:8080/"
        },
        "outputId": "bcdfcd72-03a3-4641-f9aa-3b1fe01b7bf0"
      },
      "source": [
        "# ------ Tokenizing ---------\n",
        "\n",
        "nltk.download('punkt')\n",
        "\n",
        "def remove_tweet_special(text):\n",
        "    # remove tab, new line, ans back slice\n",
        "    text = text.replace('\\\\t',\" \").replace('\\\\n',\" \").replace('\\\\u',\" \").replace('\\\\',\"\")\n",
        "    # remove non ASCII (emoticon, chinese word, .etc)\n",
        "    text = text.encode('ascii', 'replace').decode('ascii')\n",
        "    # remove mention, link, hashtag\n",
        "    text = ' '.join(re.sub(\"([@#][A-Za-z0-9]+)|(\\w+:\\/\\/\\S+)\",\" \", text).split())\n",
        "    # remove incomplete URL\n",
        "    return text.replace(\"http://\", \" \").replace(\"https://\", \" \")\n",
        "                \n",
        "dataSB['tweet'] = dataSB['tweet'].apply(remove_tweet_special)\n",
        "\n",
        "#remove number\n",
        "def remove_number(text):\n",
        "    return  re.sub(r\"\\d+\", \"\", text)\n",
        "\n",
        "dataSB['tweet'] = dataSB['tweet'].apply(remove_number)\n",
        "\n",
        "#remove punctuation\n",
        "def remove_punctuation(text):\n",
        "    return text.translate(str.maketrans(\"\",\"\",string.punctuation))\n",
        "\n",
        "dataSB['tweet'] = dataSB['tweet'].apply(remove_punctuation)\n",
        "\n",
        "#remove whitespace leading & trailing\n",
        "def remove_whitespace_LT(text):\n",
        "    return text.strip()\n",
        "\n",
        "dataSB['tweet'] = dataSB['tweet'].apply(remove_whitespace_LT)\n",
        "\n",
        "#remove multiple whitespace into single whitespace\n",
        "def remove_whitespace_multiple(text):\n",
        "    return re.sub('\\s+',' ',text)\n",
        "\n",
        "dataSB['tweet'] = dataSB['tweet'].apply(remove_whitespace_multiple)\n",
        "\n",
        "# remove single char\n",
        "def remove_singl_char(text):\n",
        "    return re.sub(r\"\\b[a-zA-Z]\\b\", \"\", text)\n",
        "\n",
        "dataSB['tweet'] = dataSB['tweet'].apply(remove_singl_char)\n",
        "\n",
        "# NLTK word tokenize \n",
        "def word_tokenize_wrapper(text):\n",
        "    return word_tokenize(text)\n",
        "\n",
        "dataSB['tweet_tokens'] = dataSB['tweet'].apply(word_tokenize_wrapper)\n",
        "\n",
        "print('Tokenizing Result : \\n') \n",
        "print(dataSB['tweet_tokens'].head())"
      ],
      "execution_count": null,
      "outputs": [
        {
          "output_type": "stream",
          "name": "stdout",
          "text": [
            "[nltk_data] Downloading package punkt to /root/nltk_data...\n",
            "[nltk_data]   Unzipping tokenizers/punkt.zip.\n",
            "Tokenizing Result : \n",
            "\n",
            "0    [ape, ye, kata, linjur, tinggal, komat, kamit,...\n",
            "1    [ptm, alesannya, dapet, uang, jajan, gampang, ...\n",
            "2    [this, lumayan, rajin, ngumpul, tugas, ofc, ca...\n",
            "3    [hikss, samaa, puas, waktu, jawabin, tremor, j...\n",
            "4                   [ngapalin, nyatet, kadang, kadang]\n",
            "Name: tweet_tokens, dtype: object\n"
          ]
        }
      ]
    },
    {
      "cell_type": "code",
      "metadata": {
        "id": "k9aPbhDxdPSv",
        "colab": {
          "base_uri": "https://localhost:8080/"
        },
        "outputId": "4ef8f8b8-6edc-4f9e-a8db-d16766b8c830"
      },
      "source": [
        "# NLTK calc frequency distribution\n",
        "def freqDist_wrapper(text):\n",
        "    return FreqDist(text)\n",
        "\n",
        "dataSB['tweet_tokens_fdist'] = dataSB['tweet_tokens'].apply(freqDist_wrapper)\n",
        "\n",
        "print('Frequency Tokens : \\n') \n",
        "print(dataSB['tweet_tokens_fdist'].head().apply(lambda x : x.most_common()))"
      ],
      "execution_count": null,
      "outputs": [
        {
          "output_type": "stream",
          "name": "stdout",
          "text": [
            "Frequency Tokens : \n",
            "\n",
            "0    [(ape, 1), (ye, 1), (kata, 1), (linjur, 1), (t...\n",
            "1    [(guru, 2), (nilai, 2), (ptm, 1), (alesannya, ...\n",
            "2    [(this, 1), (lumayan, 1), (rajin, 1), (ngumpul...\n",
            "3    [(hikss, 1), (samaa, 1), (puas, 1), (waktu, 1)...\n",
            "4            [(kadang, 2), (ngapalin, 1), (nyatet, 1)]\n",
            "Name: tweet_tokens_fdist, dtype: object\n"
          ]
        }
      ]
    },
    {
      "cell_type": "markdown",
      "metadata": {
        "id": "oNgujoy0dPSw"
      },
      "source": [
        "# Stopwords\n",
        "Membersihkan teks dari kata-kata yang termasuk ke dalam stopwords"
      ]
    },
    {
      "cell_type": "code",
      "metadata": {
        "colab": {
          "base_uri": "https://localhost:8080/"
        },
        "id": "XQ_gaIXZdgS5",
        "outputId": "bff36771-91bb-4055-ee42-96ced140d328"
      },
      "source": [
        "nltk.download('stopwords')"
      ],
      "execution_count": null,
      "outputs": [
        {
          "output_type": "stream",
          "name": "stdout",
          "text": [
            "[nltk_data] Downloading package stopwords to /root/nltk_data...\n",
            "[nltk_data]   Unzipping corpora/stopwords.zip.\n"
          ]
        },
        {
          "output_type": "execute_result",
          "data": {
            "text/plain": [
              "True"
            ]
          },
          "metadata": {},
          "execution_count": 12
        }
      ]
    },
    {
      "cell_type": "code",
      "metadata": {
        "id": "PO8UwLZddPSx",
        "colab": {
          "base_uri": "https://localhost:8080/"
        },
        "outputId": "00595fb3-64c2-42a7-a38c-6cebceeedec9"
      },
      "source": [
        "from nltk.corpus import stopwords\n",
        "\n",
        "# ----------------------- get stopword from NLTK stopword -------------------------------\n",
        "# get stopword indonesia\n",
        "list_stopwords = stopwords.words('indonesian')\n",
        "\n",
        "\n",
        "# ---------------------------- manualy add stopword  ------------------------------------\n",
        "# append additional stopword\n",
        "list_stopwords.extend([\"yg\", \"dg\", \"rt\", \"dgn\", \"ny\", \"d\", 'klo', \n",
        "                       'kalo', 'amp', 'biar', 'bikin', 'bilang', \n",
        "                       'gak', 'ga', 'krn', 'nya', 'nih', 'sih', \n",
        "                       'si', 'tau', 'tdk', 'tuh', 'utk', 'ya', \n",
        "                       'jd', 'jgn', 'sdh', 'aja', 'n', 't', \n",
        "                       'nyg', 'hehe', 'pen', 'u', 'nan', 'loh', 'rt',\n",
        "                       '&amp', 'yah', 'bisnis', 'pandemi', 'indonesia'])\n",
        "\n",
        "# convert list to dictionary\n",
        "list_stopwords = set(list_stopwords)\n",
        "\n",
        "#remove stopword pada list token\n",
        "def stopwords_removal(words):\n",
        "    return [word for word in words if word not in list_stopwords]\n",
        "\n",
        "dataSB['tweet_tokens_WSW'] = dataSB['tweet_tokens'].apply(stopwords_removal) \n",
        "\n",
        "print(dataSB['tweet_tokens_WSW'].head())"
      ],
      "execution_count": null,
      "outputs": [
        {
          "output_type": "stream",
          "name": "stdout",
          "text": [
            "0    [ape, ye, linjur, tinggal, komat, kamit, lolos...\n",
            "1    [ptm, alesannya, dapet, uang, jajan, gampang, ...\n",
            "2    [this, lumayan, rajin, ngumpul, tugas, ofc, ca...\n",
            "3    [hikss, samaa, puas, jawabin, tremor, jdi, gag...\n",
            "4                   [ngapalin, nyatet, kadang, kadang]\n",
            "Name: tweet_tokens_WSW, dtype: object\n"
          ]
        }
      ]
    },
    {
      "cell_type": "code",
      "metadata": {
        "id": "TNzlXxSJdPSy",
        "colab": {
          "base_uri": "https://localhost:8080/"
        },
        "outputId": "06d5927a-8f24-4ec7-f42d-56b4f87eb53b"
      },
      "source": [
        "# import Sastrawi package\n",
        "from Sastrawi.Stemmer.StemmerFactory import StemmerFactory\n",
        "import swifter\n",
        "\n",
        "# create stemmer\n",
        "factory = StemmerFactory()\n",
        "stemmer = factory.create_stemmer()\n",
        "\n",
        "# stemmed\n",
        "def stemmed_wrapper(term):\n",
        "    return stemmer.stem(term)\n",
        "\n",
        "term_dict = {}\n",
        "\n",
        "for document in dataSB['tweet_tokens_WSW']:\n",
        "    for term in document:\n",
        "        if term not in term_dict:\n",
        "            term_dict[term] = ' '\n",
        "            \n",
        "print(len(term_dict))\n"
      ],
      "execution_count": null,
      "outputs": [
        {
          "output_type": "stream",
          "name": "stdout",
          "text": [
            "6673\n"
          ]
        }
      ]
    },
    {
      "cell_type": "code",
      "metadata": {
        "scrolled": true,
        "id": "Kvkan257dPS1",
        "colab": {
          "base_uri": "https://localhost:8080/"
        },
        "outputId": "2c40b753-41ff-4d3b-9203-e688487fd53f"
      },
      "source": [
        "for term in term_dict:\n",
        "    term_dict[term] = stemmed_wrapper(term)\n",
        "print(term,\":\" ,term_dict[term])"
      ],
      "execution_count": null,
      "outputs": [
        {
          "output_type": "stream",
          "name": "stdout",
          "text": [
            "sedep : sedep\n"
          ]
        }
      ]
    },
    {
      "cell_type": "code",
      "metadata": {
        "colab": {
          "base_uri": "https://localhost:8080/",
          "height": 266,
          "referenced_widgets": [
            "992b64385ad649499b80d53efeb8c566",
            "46aa5850e5b24b1cbe92dcd3f68de312",
            "2cc9dcd8d6854f31a08523b75d468e1b",
            "5defff1e27754ae2b1214621e43b9071",
            "b37194549820466aa2cab92b12bf79e3",
            "628ed9465e6d41999fb651fa9d464c22",
            "b9c5713fcd844116a5530e7c4ff33e9c",
            "b225d47ab9954d0693525ede9a6e3853",
            "f29f8d34379f4f6d912c4b1de470d104",
            "ee60532219554d58a5bf21261364c3b6",
            "504b2758affe43d09feff16ce5ae1844"
          ]
        },
        "id": "OWpFQKehdPS2",
        "outputId": "8181af1f-8121-4e96-8d7d-c4bafdec30e6"
      },
      "source": [
        "# apply stemmed term to dataframe\n",
        "def get_stemmed_term(document):\n",
        "    return [term_dict[term] for term in document]\n",
        "\n",
        "dataSB['tweet_tokens_stemmed'] = dataSB['tweet_tokens_WSW'].swifter.apply(get_stemmed_term)\n",
        "\n",
        "print(dataSB['tweet_tokens_stemmed'])"
      ],
      "execution_count": null,
      "outputs": [
        {
          "output_type": "display_data",
          "data": {
            "text/plain": [
              "Pandas Apply:   0%|          | 0/3578 [00:00<?, ?it/s]"
            ],
            "application/vnd.jupyter.widget-view+json": {
              "version_major": 2,
              "version_minor": 0,
              "model_id": "992b64385ad649499b80d53efeb8c566"
            }
          },
          "metadata": {}
        },
        {
          "output_type": "stream",
          "name": "stdout",
          "text": [
            "0       [ape, ye, linjur, tinggal, komat, kamit, lolos...\n",
            "1       [ptm, alesannya, dapet, uang, jajan, gampang, ...\n",
            "2       [this, lumayan, rajin, ngumpul, tugas, ofc, ca...\n",
            "3       [hikss, samaa, puas, jawabin, tremor, jdi, gag...\n",
            "4                      [ngapalin, nyatet, kadang, kadang]\n",
            "                              ...                        \n",
            "3573                           [besok, kimia, apaaannnnn]\n",
            "3574    [desain, grafis, kemarin, niat, bentrok, buang...\n",
            "3575                         [ngerasa, salah, hr, latsol]\n",
            "3576    [join, panitia, volunteer, beban, berat, maksi...\n",
            "3577                        [tani, anak, anak, sd, sedep]\n",
            "Name: tweet_tokens_stemmed, Length: 3578, dtype: object\n"
          ]
        }
      ]
    },
    {
      "cell_type": "code",
      "metadata": {
        "id": "Lc6tEmgadPS2",
        "colab": {
          "base_uri": "https://localhost:8080/"
        },
        "outputId": "ae315cff-d514-41e8-fd51-848bd3133166"
      },
      "source": [
        "#stopwords #2\n",
        "\n",
        "from nltk.corpus import stopwords\n",
        "\n",
        "# ----------------------- get stopword from NLTK stopword -------------------------------\n",
        "# get stopword indonesia\n",
        "list_stopwords = stopwords.words('indonesian')\n",
        "\n",
        "\n",
        "# ---------------------------- manualy add stopword  ------------------------------------\n",
        "# append additional stopword\n",
        "list_stopwords.extend([\"ada\", \"tan\", \"ton\", \"pt\", \"komentar\", \"juta\", \"unit\", \"menang\", \"artikel\", \n",
        "                       \"smartphone\", \"tagar\", \"sedia\", \"kaskus\", \"seksi\"])\n",
        "\n",
        "# convert list to dictionary\n",
        "list_stopwords = set(list_stopwords)\n",
        "\n",
        "#remove stopword pada list token\n",
        "def stopwords_removal(words):\n",
        "    return [word for word in words if word not in list_stopwords]\n",
        "\n",
        "dataSB['tweet_tokens_stemmed2'] = dataSB['tweet_tokens_stemmed'].apply(stopwords_removal) \n",
        "\n",
        "print(dataSB['tweet_tokens_stemmed2'].head())"
      ],
      "execution_count": null,
      "outputs": [
        {
          "output_type": "stream",
          "name": "stdout",
          "text": [
            "0    [ape, ye, linjur, tinggal, komat, kamit, lolos...\n",
            "1    [ptm, alesannya, dapet, uang, jajan, gampang, ...\n",
            "2    [this, lumayan, rajin, ngumpul, tugas, ofc, ca...\n",
            "3    [hikss, samaa, puas, jawabin, tremor, jdi, gag...\n",
            "4                   [ngapalin, nyatet, kadang, kadang]\n",
            "Name: tweet_tokens_stemmed2, dtype: object\n"
          ]
        }
      ]
    },
    {
      "cell_type": "code",
      "metadata": {
        "id": "uhGB8a3HdPS3",
        "colab": {
          "base_uri": "https://localhost:8080/"
        },
        "outputId": "e6e3e2f0-474e-4650-f866-59e6d9121448"
      },
      "source": [
        "doc_clean = dataSB['tweet_tokens_stemmed2']\n",
        "doc_clean"
      ],
      "execution_count": null,
      "outputs": [
        {
          "output_type": "execute_result",
          "data": {
            "text/plain": [
              "0       [ape, ye, linjur, tinggal, komat, kamit, lolos...\n",
              "1       [ptm, alesannya, dapet, uang, jajan, gampang, ...\n",
              "2       [this, lumayan, rajin, ngumpul, tugas, ofc, ca...\n",
              "3       [hikss, samaa, puas, jawabin, tremor, jdi, gag...\n",
              "4                      [ngapalin, nyatet, kadang, kadang]\n",
              "                              ...                        \n",
              "3573                           [besok, kimia, apaaannnnn]\n",
              "3574    [desain, grafis, kemarin, niat, bentrok, buang...\n",
              "3575                         [ngerasa, salah, hr, latsol]\n",
              "3576    [join, panitia, volunteer, beban, berat, maksi...\n",
              "3577                        [tani, anak, anak, sd, sedep]\n",
              "Name: tweet_tokens_stemmed2, Length: 3578, dtype: object"
            ]
          },
          "metadata": {},
          "execution_count": 18
        }
      ]
    },
    {
      "cell_type": "markdown",
      "metadata": {
        "id": "7IpABMN5dPS4"
      },
      "source": [
        "# LDA model using gensim\n",
        "Proses topic modeling dengan LDA gensim"
      ]
    },
    {
      "cell_type": "code",
      "metadata": {
        "id": "gsrO1YZcdPS3",
        "colab": {
          "base_uri": "https://localhost:8080/"
        },
        "outputId": "de637bb1-16f6-4ebc-f09d-2791ad372c7b"
      },
      "source": [
        "import gensim\n",
        "from gensim import corpora\n",
        "\n",
        "dictionary = corpora.Dictionary(doc_clean)\n",
        "print(dictionary)\n",
        "\n",
        "doc_term_matrix = [dictionary.doc2bow(doc) for doc in doc_clean]"
      ],
      "execution_count": null,
      "outputs": [
        {
          "output_type": "stream",
          "name": "stdout",
          "text": [
            "Dictionary<6665 unique tokens: ['ape', 'bestie', 'gatau', 'gila', 'kamit']...>\n"
          ]
        }
      ]
    },
    {
      "cell_type": "code",
      "metadata": {
        "id": "IjX9uZ-udPS4"
      },
      "source": [
        "# Creating the object for LDA model using gensim library\n",
        "Lda = gensim.models.ldamodel.LdaModel\n",
        "\n",
        "total_topics = 3 # jumlah topik yang akan di extract\n",
        "number_words = 10 # jumlah kata per topik"
      ],
      "execution_count": null,
      "outputs": []
    },
    {
      "cell_type": "code",
      "metadata": {
        "id": "NcPeAh8PdPS4",
        "colab": {
          "base_uri": "https://localhost:8080/"
        },
        "outputId": "82032117-7121-4539-8b4e-23de826d4ceb"
      },
      "source": [
        "# Running and Trainign LDA model on the document term matrix.\n",
        "lda_model = Lda(doc_term_matrix, num_topics=total_topics, id2word = dictionary, passes=50)\n",
        "\n",
        "lda_model.show_topics(num_topics=total_topics, num_words=number_words)"
      ],
      "execution_count": null,
      "outputs": [
        {
          "output_type": "execute_result",
          "data": {
            "text/plain": [
              "[(0,\n",
              "  '0.016*\"latsol\" + 0.010*\"baca\" + 0.010*\"tugas\" + 0.007*\"minggu\" + 0.006*\"besok\" + 0.006*\"to\" + 0.006*\"well\" + 0.006*\"guru\" + 0.006*\"rest\" + 0.005*\"fokus\"'),\n",
              " (1,\n",
              "  '0.010*\"tugas\" + 0.009*\"jam\" + 0.007*\"besok\" + 0.007*\"suka\" + 0.007*\"susah\" + 0.006*\"kasih\" + 0.006*\"ajar\" + 0.006*\"kuliah\" + 0.006*\"buku\" + 0.006*\"ngerti\"'),\n",
              " (2,\n",
              "  '0.011*\"latsol\" + 0.011*\"soshum\" + 0.011*\"anak\" + 0.009*\"linjur\" + 0.009*\"ajar\" + 0.007*\"minggu\" + 0.007*\"materi\" + 0.006*\"ipa\" + 0.006*\"sma\" + 0.006*\"jurus\"')]"
            ]
          },
          "metadata": {},
          "execution_count": 21
        }
      ]
    },
    {
      "cell_type": "code",
      "metadata": {
        "id": "WrqQ9VKidPS4",
        "colab": {
          "base_uri": "https://localhost:8080/"
        },
        "outputId": "b79477d4-0740-4123-eec1-d0f02f040411"
      },
      "source": [
        "# Word Count of Topic Keywords\n",
        "\n",
        "from collections import Counter\n",
        "topics = lda_model.show_topics(formatted=False)\n",
        "data_flat = [w for w_list in doc_clean for w in w_list]\n",
        "counter = Counter(data_flat)\n",
        "\n",
        "out = []\n",
        "for i, topic in topics:\n",
        "    for word, weight in topic:\n",
        "        out.append([word, i , weight, counter[word]])\n",
        "\n",
        "df_imp_wcount = pd.DataFrame(out, columns=['word', 'topic_id', 'importance', 'word_count']) \n",
        "print(df_imp_wcount)"
      ],
      "execution_count": null,
      "outputs": [
        {
          "output_type": "stream",
          "name": "stdout",
          "text": [
            "      word  topic_id  importance  word_count\n",
            "0   latsol         0    0.016093         307\n",
            "1     baca         0    0.009993         167\n",
            "2    tugas         0    0.009848         238\n",
            "3   minggu         0    0.006975         172\n",
            "4    besok         0    0.006268         171\n",
            "5       to         0    0.005883         143\n",
            "6     well         0    0.005855          61\n",
            "7     guru         0    0.005546         112\n",
            "8     rest         0    0.005511          58\n",
            "9    fokus         0    0.004848          85\n",
            "10   tugas         1    0.010268         238\n",
            "11     jam         1    0.009442         151\n",
            "12   besok         1    0.006865         171\n",
            "13    suka         1    0.006773         111\n",
            "14   susah         1    0.006589         145\n",
            "15   kasih         1    0.006370          79\n",
            "16    ajar         1    0.005771         236\n",
            "17  kuliah         1    0.005635         133\n",
            "18    buku         1    0.005618         141\n",
            "19  ngerti         1    0.005615          71\n",
            "20  latsol         2    0.010950         307\n",
            "21  soshum         2    0.010769         140\n",
            "22    anak         2    0.010547         156\n",
            "23  linjur         2    0.009189         118\n",
            "24    ajar         2    0.009052         236\n",
            "25  minggu         2    0.006935         172\n",
            "26  materi         2    0.006776         121\n",
            "27     ipa         2    0.006301          81\n",
            "28     sma         2    0.005892         110\n",
            "29   jurus         2    0.005791          74\n"
          ]
        }
      ]
    },
    {
      "cell_type": "code",
      "metadata": {
        "colab": {
          "base_uri": "https://localhost:8080/"
        },
        "id": "VyMPU4DEpYcv",
        "outputId": "075bd3b5-688f-486e-f790-f3997e213418"
      },
      "source": [
        "from google.colab import drive\n",
        "drive.mount('drive')"
      ],
      "execution_count": null,
      "outputs": [
        {
          "output_type": "stream",
          "name": "stdout",
          "text": [
            "Drive already mounted at drive; to attempt to forcibly remount, call drive.mount(\"drive\", force_remount=True).\n"
          ]
        }
      ]
    },
    {
      "cell_type": "code",
      "metadata": {
        "id": "ciVXI1gtdPS4"
      },
      "source": [
        "#Dominant topic and its percentage contribution in each topic\n",
        "def format_topics_sentences(ldamodel=None, corpus=doc_term_matrix, texts=document):\n",
        "    # Init output\n",
        "    sent_topics_df = pd.DataFrame()\n",
        "\n",
        "    # Get main topic in each document\n",
        "    for i, row_list in enumerate(ldamodel[corpus]):\n",
        "        row = row_list[0] if ldamodel.per_word_topics else row_list            \n",
        "        # print(row)\n",
        "        row = sorted(row, key=lambda x: (x[1]), reverse=True)\n",
        "        # Get the Dominant topic, Perc Contribution and Keywords for each document\n",
        "        for j, (topic_num, prop_topic) in enumerate(row):\n",
        "            if j == 0:  # => dominant topic\n",
        "                wp = ldamodel.show_topic(topic_num)\n",
        "                topic_keywords = \", \".join([word for word, prop in wp])\n",
        "                sent_topics_df = sent_topics_df.append(pd.Series([int(topic_num), round(prop_topic,4), topic_keywords]), ignore_index=True)\n",
        "            else:\n",
        "                break\n",
        "    sent_topics_df.columns = ['Dominant_Topic', 'Perc_Contribution', 'Topic_Keywords']\n",
        "\n",
        "    # Add original text to the end of the output\n",
        "    contents = pd.Series(texts)\n",
        "    sent_topics_df = pd.concat([sent_topics_df, contents], axis=1)\n",
        "    return(sent_topics_df)"
      ],
      "execution_count": null,
      "outputs": []
    },
    {
      "cell_type": "code",
      "metadata": {
        "id": "_OebSqAFdPS4",
        "colab": {
          "base_uri": "https://localhost:8080/"
        },
        "outputId": "e47266f5-a9c1-4cab-b3cc-5ba10f16e4b9"
      },
      "source": [
        "df_topic_sents_keywords = format_topics_sentences(ldamodel=lda_model, corpus=doc_term_matrix, texts=doc_clean)\n",
        "\n",
        "# Format\n",
        "df_dominant_topic = df_topic_sents_keywords.reset_index()\n",
        "df_dominant_topic.columns = ['Document_No', 'Dominant_Topic', 'Topic_Perc_Contrib', 'Keywords', 'Text']\n",
        "print(df_dominant_topic.head(10))"
      ],
      "execution_count": null,
      "outputs": [
        {
          "output_type": "stream",
          "name": "stdout",
          "text": [
            "   Document_No  Dominant_Topic  Topic_Perc_Contrib  \\\n",
            "0            0             0.0              0.5309   \n",
            "1            1             1.0              0.9663   \n",
            "2            2             1.0              0.9441   \n",
            "3            3             2.0              0.8533   \n",
            "4            4             1.0              0.5209   \n",
            "5            5             0.0              0.8281   \n",
            "6            6             1.0              0.9446   \n",
            "7            7             2.0              0.6748   \n",
            "8            8             1.0              0.7109   \n",
            "9            9             1.0              0.9519   \n",
            "\n",
            "                                            Keywords  \\\n",
            "0  latsol, baca, tugas, minggu, besok, to, well, ...   \n",
            "1  tugas, jam, besok, suka, susah, kasih, ajar, k...   \n",
            "2  tugas, jam, besok, suka, susah, kasih, ajar, k...   \n",
            "3  latsol, soshum, anak, linjur, ajar, minggu, ma...   \n",
            "4  tugas, jam, besok, suka, susah, kasih, ajar, k...   \n",
            "5  latsol, baca, tugas, minggu, besok, to, well, ...   \n",
            "6  tugas, jam, besok, suka, susah, kasih, ajar, k...   \n",
            "7  latsol, soshum, anak, linjur, ajar, minggu, ma...   \n",
            "8  tugas, jam, besok, suka, susah, kasih, ajar, k...   \n",
            "9  tugas, jam, besok, suka, susah, kasih, ajar, k...   \n",
            "\n",
            "                                                Text  \n",
            "0  [ape, ye, linjur, tinggal, komat, kamit, lolos...  \n",
            "1  [ptm, alesannya, dapet, uang, jajan, gampang, ...  \n",
            "2  [this, lumayan, rajin, ngumpul, tugas, ofc, ca...  \n",
            "3  [hikss, samaa, puas, jawabin, tremor, jdi, gag...  \n",
            "4                 [ngapalin, nyatet, kadang, kadang]  \n",
            "5                         [kemaren, kelar, anjggghh]  \n",
            "6  [jujur, suka, kesel, temen, nilai, hasil, nyon...  \n",
            "7        [trobos, walo, ngantuk, sakit, perut, haid]  \n",
            "8  [asli, asli, nyesek, liat, tmn, nilai, bagus, ...  \n",
            "9  [lebay, kemarin, pusing, pusing, mikirin, pusi...  \n"
          ]
        }
      ]
    },
    {
      "cell_type": "code",
      "metadata": {
        "id": "CPxZdk2adPS5",
        "colab": {
          "base_uri": "https://localhost:8080/"
        },
        "outputId": "f687b165-958a-4c37-c14b-d7f2ec8aedde"
      },
      "source": [
        "import pyLDAvis.gensim\n",
        "import pickle \n",
        "import pyLDAvis\n",
        "# Visualize the topics\n",
        "pyLDAvis.enable_notebook()"
      ],
      "execution_count": null,
      "outputs": [
        {
          "output_type": "stream",
          "name": "stderr",
          "text": [
            "/usr/local/lib/python3.7/dist-packages/past/types/oldstr.py:5: DeprecationWarning: Using or importing the ABCs from 'collections' instead of from 'collections.abc' is deprecated since Python 3.3,and in 3.9 it will stop working\n",
            "  from collections import Iterable\n",
            "/usr/local/lib/python3.7/dist-packages/past/builtins/misc.py:4: DeprecationWarning: Using or importing the ABCs from 'collections' instead of from 'collections.abc' is deprecated since Python 3.3,and in 3.9 it will stop working\n",
            "  from collections import Mapping\n"
          ]
        }
      ]
    },
    {
      "cell_type": "code",
      "metadata": {
        "id": "Yh7qhTZadPS5"
      },
      "source": [
        "import os\n",
        "LDAvis_data_filepath = os.path.join('ldavis_prepared_'+str(total_topics))"
      ],
      "execution_count": null,
      "outputs": []
    },
    {
      "cell_type": "code",
      "metadata": {
        "id": "AtNwD5fcdPS5"
      },
      "source": [
        "corpus = [dictionary.doc2bow(text) for text in doc_clean]"
      ],
      "execution_count": null,
      "outputs": []
    },
    {
      "cell_type": "code",
      "metadata": {
        "id": "6p2NGYvMdPS5"
      },
      "source": [
        "if 1 == 1:\n",
        "    LDAvis_prepared = pyLDAvis.gensim.prepare(lda_model, corpus, dictionary)\n",
        "    with open(LDAvis_data_filepath, 'wb') as f:\n",
        "        pickle.dump(LDAvis_prepared, f)"
      ],
      "execution_count": null,
      "outputs": []
    },
    {
      "cell_type": "code",
      "metadata": {
        "id": "436P-l4udPS5"
      },
      "source": [
        "# load the pre-prepared pyLDAvis data from disk\n",
        "with open(LDAvis_data_filepath, 'rb') as f:\n",
        "    LDAvis_prepared = pickle.load(f)"
      ],
      "execution_count": null,
      "outputs": []
    },
    {
      "cell_type": "code",
      "metadata": {
        "id": "dRBL8ZqcdPS6",
        "colab": {
          "base_uri": "https://localhost:8080/",
          "height": 881
        },
        "outputId": "9b0f3cef-63dc-4361-a17f-accb09712d68"
      },
      "source": [
        "LDAvis_prepared"
      ],
      "execution_count": null,
      "outputs": [
        {
          "output_type": "execute_result",
          "data": {
            "text/plain": [
              "PreparedData(topic_coordinates=              x         y  topics  cluster       Freq\n",
              "topic                                                \n",
              "2      0.108202  0.099075       1        1  35.953604\n",
              "1      0.035160 -0.139611       2        1  34.975000\n",
              "0     -0.143361  0.040536       3        1  29.071396, topic_info=        Term        Freq       Total Category  logprob  loglift\n",
              "130   latsol  253.000000  253.000000  Default  30.0000  30.0000\n",
              "1287  soshum  114.000000  114.000000  Default  29.0000  29.0000\n",
              "7     linjur   97.000000   97.000000  Default  28.0000  28.0000\n",
              "532     anak  129.000000  129.000000  Default  27.0000  27.0000\n",
              "12     tugas  193.000000  193.000000  Default  26.0000  26.0000\n",
              "...      ...         ...         ...      ...      ...      ...\n",
              "771     buku   23.745741  117.261164   Topic3  -5.8837  -0.3616\n",
              "458       us   21.016168   60.735612   Topic3  -6.0058   0.1742\n",
              "148     coba   20.962326   68.445729   Topic3  -6.0084   0.0521\n",
              "1037  review   20.459327   44.529256   Topic3  -6.0326   0.4577\n",
              "198   kuliah   20.766080  110.304412   Topic3  -6.0178  -0.4345\n",
              "\n",
              "[201 rows x 6 columns], token_table=      Topic      Freq   Term\n",
              "term                        \n",
              "443       1  0.490278   abis\n",
              "443       2  0.270943   abis\n",
              "443       3  0.245139   abis\n",
              "1436      3  0.923560     ah\n",
              "157       1  0.488085   ajar\n",
              "...     ...       ...    ...\n",
              "458       1  0.576268     us\n",
              "458       2  0.082324     us\n",
              "458       3  0.345761     us\n",
              "303       3  0.989998   well\n",
              "1143      1  0.980654  worth\n",
              "\n",
              "[259 rows x 3 columns], R=30, lambda_step=0.01, plot_opts={'xlab': 'PC1', 'ylab': 'PC2'}, topic_order=[3, 2, 1])"
            ],
            "text/html": [
              "\n",
              "<link rel=\"stylesheet\" type=\"text/css\" href=\"https://cdn.jsdelivr.net/gh/bmabey/pyLDAvis/pyLDAvis/js/ldavis.v1.0.0.css\">\n",
              "\n",
              "\n",
              "<div id=\"ldavis_el601401423095636005844796979\"></div>\n",
              "<script type=\"text/javascript\">\n",
              "\n",
              "var ldavis_el601401423095636005844796979_data = {\"mdsDat\": {\"x\": [0.10820154221435907, 0.03515993956625711, -0.1433614817806162], \"y\": [0.09907456247559913, -0.13961067724703888, 0.04053611477143966], \"topics\": [1, 2, 3], \"cluster\": [1, 1, 1], \"Freq\": [35.95360398314869, 34.97500045511519, 29.071395561736114]}, \"tinfo\": {\"Term\": [\"latsol\", \"soshum\", \"linjur\", \"anak\", \"tugas\", \"kasih\", \"ipa\", \"jam\", \"well\", \"jurus\", \"ips\", \"kls\", \"semester\", \"rest\", \"pts\", \"takut\", \"ngerti\", \"baca\", \"lu\", \"tka\", \"materi\", \"ksn\", \"presentasi\", \"prioritas\", \"good\", \"moga\", \"and\", \"tps\", \"sma\", \"banyakin\", \"linjur\", \"soshum\", \"ipa\", \"ips\", \"jurus\", \"semester\", \"kls\", \"pts\", \"takut\", \"ksn\", \"worth\", \"tka\", \"sulit\", \"darimana\", \"cocok\", \"gantung\", \"pr\", \"sains\", \"mas\", \"giat\", \"peluang\", \"ngebut\", \"sosiologi\", \"menit\", \"kayak\", \"sosial\", \"bljr\", \"manfaat\", \"akuntansi\", \"rekomendasi\", \"tps\", \"prioritas\", \"anak\", \"tolong\", \"materi\", \"sma\", \"butuh\", \"saintek\", \"ambil\", \"ekonomi\", \"bingung\", \"latsol\", \"ajar\", \"minggu\", \"selesai\", \"tips\", \"saran\", \"latih\", \"us\", \"abis\", \"smp\", \"to\", \"buku\", \"malem\", \"kuliah\", \"kasih\", \"lu\", \"moga\", \"anjir\", \"sakit\", \"kisi\", \"offline\", \"terima\", \"sd\", \"pulang\", \"snmptn\", \"inget\", \"dengerin\", \"hah\", \"rumah\", \"main\", \"lgi\", \"gamau\", \"set\", \"logika\", \"keren\", \"hati\", \"ngerti\", \"maksimal\", \"ujung\", \"gagal\", \"hoh\", \"untung\", \"presentasi\", \"matkul\", \"dri\", \"aktif\", \"jam\", \"pusing\", \"suka\", \"nang\", \"schapp\", \"males\", \"tugas\", \"susah\", \"nilai\", \"ulang\", \"liat\", \"besok\", \"kuliah\", \"buku\", \"tidur\", \"latih\", \"temen\", \"otak\", \"dasar\", \"lupa\", \"sbm\", \"semangat\", \"ajar\", \"dapet\", \"online\", \"baca\", \"bingung\", \"well\", \"rest\", \"good\", \"progress\", \"banyakin\", \"moots\", \"and\", \"night\", \"do\", \"day\", \"filsafat\", \"maret\", \"have\", \"time\", \"kelar\", \"all\", \"ruang\", \"up\", \"rangkum\", \"today\", \"ah\", \"limit\", \"learning\", \"todays\", \"twt\", \"math\", \"my\", \"februari\", \"blom\", \"perang\", \"studytwt\", \"beli\", \"baca\", \"latsol\", \"kerja\", \"fokus\", \"uas\", \"tugas\", \"guru\", \"minggu\", \"to\", \"besok\", \"bahasa\", \"nonton\", \"salah\", \"ulang\", \"ajar\", \"bahas\", \"kimia\", \"fisika\", \"selesai\", \"materi\", \"buku\", \"us\", \"coba\", \"review\", \"kuliah\"], \"Freq\": [253.0, 114.0, 97.0, 129.0, 193.0, 65.0, 67.0, 125.0, 50.0, 61.0, 60.0, 58.0, 58.0, 47.0, 58.0, 56.0, 60.0, 133.0, 47.0, 46.0, 96.0, 42.0, 46.0, 58.0, 33.0, 39.0, 33.0, 53.0, 93.0, 29.0, 96.9170157509329, 113.57880477248818, 66.45766890048417, 59.755161935714376, 61.079563572498955, 58.03920845336953, 58.117934306397125, 57.94399584496991, 56.33822908991934, 42.01376791768394, 27.980634146488494, 45.851272638081035, 21.0004405203409, 17.30801875610193, 17.252067167700176, 17.2645537853747, 19.55003331829562, 15.62230326983263, 17.25343124166639, 16.566949661117615, 14.949259843703489, 14.637493433378607, 13.234383132617308, 13.6199396827887, 13.26678694910365, 12.900461263498245, 10.969472754652275, 10.596836231795438, 10.594202623642847, 10.9236307837463, 48.688369686140405, 52.47053057386326, 111.23227341421173, 25.470239566178844, 71.46377370049508, 62.13762332148614, 30.702350918309328, 35.843971739874625, 28.2600667243199, 28.550173702747404, 53.4540733317096, 115.48937268888945, 95.46989411318428, 73.14268723377353, 40.89235914947013, 28.79780162529455, 33.887882305587354, 49.02964110229975, 34.69144096725434, 37.64586310988031, 31.307717367758276, 36.57370833917203, 35.87683966073471, 31.271890474568238, 31.730133381961817, 65.35462507226522, 46.61233469145587, 39.148816967342185, 27.563714488935926, 23.788506807665783, 23.002854504536682, 23.136010122185088, 24.094502205565846, 21.382513812687705, 22.945636979295266, 19.676885494185715, 19.684759980553114, 19.03283659303334, 17.63305676482893, 22.614206261862343, 18.519263141562067, 16.925478089011246, 16.259059818046186, 14.616299592812943, 15.193190220955684, 15.893710165629525, 13.207600203833204, 57.60331177176921, 14.442236776911322, 12.54017746706578, 11.84174408809554, 11.178376240030879, 12.824719577519879, 44.716882640609946, 13.093577211259783, 17.80256663942424, 12.470214811530639, 96.87583210662912, 43.26598971607717, 69.48681822757634, 31.907633747439668, 27.971491773572996, 38.170648820194316, 105.34051916983111, 67.5951642757215, 50.981925754901354, 50.586402714178966, 34.34293898941134, 70.43370102724845, 57.808198908036346, 57.63858392881487, 34.542394127498746, 54.07243173773606, 39.34175561860713, 37.182436015022816, 41.92244205724384, 39.21732368493074, 33.149733943346526, 39.293761024312026, 59.212248611678866, 32.5203125007929, 30.324741356146347, 37.14523853232506, 32.8164352300576, 49.932389255810115, 47.000319573057126, 32.512019657500545, 28.607141610156493, 29.18200331335403, 22.980555491844925, 32.99659913413944, 20.988413732253246, 19.669975539072563, 19.97728456333885, 17.312066666049443, 17.331383925389428, 16.700422947303213, 16.682761623238136, 19.187659571082822, 15.685482546062463, 16.9846660242211, 13.740197401042094, 14.618744529133375, 12.72578713735338, 12.385877631937626, 12.078281698022392, 12.07383112377935, 10.820291098977437, 11.44700402727869, 11.415028989308588, 11.387830153141586, 10.756533619825806, 11.369757823558635, 10.424665526716241, 14.917310254858842, 19.14555235360692, 85.21420686679251, 137.24003982191329, 17.47293859391913, 41.3396299244317, 18.462113714470675, 83.98181774188978, 47.292860196154656, 59.48393908242608, 50.1656934604526, 53.45084666606618, 32.653762951751006, 26.655137418409172, 31.45921810303495, 31.58089559166409, 39.95612578525746, 28.325618714685394, 24.12939136458547, 24.952520255916724, 22.41651693395135, 23.781648927923314, 23.74574054729184, 21.01616752514607, 20.96232580230484, 20.45932652765001, 20.76607960242352], \"Total\": [253.0, 114.0, 97.0, 129.0, 193.0, 65.0, 67.0, 125.0, 50.0, 61.0, 60.0, 58.0, 58.0, 47.0, 58.0, 56.0, 60.0, 133.0, 47.0, 46.0, 96.0, 42.0, 46.0, 58.0, 33.0, 39.0, 33.0, 53.0, 93.0, 29.0, 97.48147483628252, 114.25181345265311, 67.04693898548939, 60.333969341731645, 61.6824494862863, 58.63473144376929, 58.719060663273495, 58.6047874099991, 56.99176386108592, 42.651478425677205, 28.55236557077899, 46.955303013092916, 21.572667137935284, 17.879205983773673, 17.822773283887674, 17.850901367181528, 20.22302664670183, 16.179843043591518, 17.878677388356856, 17.2039424895148, 15.534052883244248, 15.238107715816028, 13.806243252773092, 14.213956396822292, 13.862401457260503, 13.51003770891503, 11.545207836744295, 11.166026434903888, 11.165691396592155, 11.516424047812329, 53.589575107274435, 58.489823156312085, 129.24202433804172, 27.96997712517096, 96.55979449711654, 93.97943992477897, 40.57594093952428, 49.531594577454634, 36.56168573209117, 37.15813534134495, 86.8091029370324, 253.0464186633684, 194.6382685101206, 142.80879941072865, 63.61427403467698, 39.498154631609964, 56.27652346629041, 113.25363810609649, 60.735611959660844, 77.50702324361846, 51.65709994440742, 114.70761621985436, 117.26116413684143, 59.91651072133068, 110.30441189242168, 65.97898275211509, 47.207708396010595, 39.76191835563897, 28.13558641469573, 24.369765387755553, 23.567316137230854, 23.711065967526768, 24.697412344042476, 21.949743176761014, 23.564805732020755, 20.245690878039312, 20.273538614996912, 19.615167755431198, 18.184456778295534, 23.347063474141244, 19.16778275028818, 17.523636560089912, 16.8648912301349, 15.163816331085474, 15.791323522541411, 16.533933115975636, 13.75993457271471, 60.1139046534977, 15.100624288696054, 13.128889176865846, 12.413278149185647, 11.726897538402362, 13.456130600087358, 46.93306069042456, 13.755708630827913, 18.908857526160304, 13.12592760931336, 125.44853724819475, 52.59227159746715, 90.08569018776862, 37.518726995466004, 34.41274560685949, 52.042227647434444, 193.9032152877095, 111.51442877901037, 79.12935597286481, 82.87267732941285, 48.798988617695585, 144.03496754746158, 110.30441189242168, 117.26116413684143, 52.812915474674185, 113.25363810609649, 66.96847299752879, 62.173096688004215, 79.08190097494962, 70.39397550433976, 50.965339529456195, 74.57884746057425, 194.6382685101206, 53.05854215189266, 46.08876765755282, 133.0827930453853, 86.8091029370324, 50.50514820904684, 47.56115245075032, 33.07597960617235, 29.17853686840596, 29.786428281935457, 23.552936587231496, 33.83155242058128, 21.562918134505477, 20.235740437061978, 20.553436092453445, 17.871779226146902, 17.8997987448476, 17.26398304950659, 17.26408608435155, 19.862475607378382, 16.254779568874444, 17.60995739761879, 14.348840070226826, 15.273889455901356, 13.310795618461182, 12.99320048484358, 12.67521533769444, 12.675613413992261, 11.376325191608268, 12.039509741235452, 12.011853642422869, 11.984532476611264, 11.320622949606694, 11.984345848820467, 11.00254519988145, 16.309384533883446, 22.3713306597334, 133.0827930453853, 253.0464186633684, 20.25524401110103, 67.638223202687, 22.940610398125315, 193.9032152877095, 91.9518880986676, 142.80879941072865, 114.70761621985436, 144.03496754746158, 64.57609423467241, 45.48181734574294, 63.265511070481715, 82.87267732941285, 194.6382685101206, 76.11255356579117, 54.385880101733896, 66.69627062948405, 63.61427403467698, 96.55979449711654, 117.26116413684143, 60.735611959660844, 68.44572859819917, 44.52925628450062, 110.30441189242168], \"Category\": [\"Default\", \"Default\", \"Default\", \"Default\", \"Default\", \"Default\", \"Default\", \"Default\", \"Default\", \"Default\", \"Default\", \"Default\", \"Default\", \"Default\", \"Default\", \"Default\", \"Default\", \"Default\", \"Default\", \"Default\", \"Default\", \"Default\", \"Default\", \"Default\", \"Default\", \"Default\", \"Default\", \"Default\", \"Default\", \"Default\", \"Topic1\", \"Topic1\", \"Topic1\", \"Topic1\", \"Topic1\", \"Topic1\", \"Topic1\", \"Topic1\", \"Topic1\", \"Topic1\", \"Topic1\", \"Topic1\", \"Topic1\", \"Topic1\", \"Topic1\", \"Topic1\", \"Topic1\", \"Topic1\", \"Topic1\", \"Topic1\", \"Topic1\", \"Topic1\", \"Topic1\", \"Topic1\", \"Topic1\", \"Topic1\", \"Topic1\", \"Topic1\", \"Topic1\", \"Topic1\", \"Topic1\", \"Topic1\", \"Topic1\", \"Topic1\", \"Topic1\", \"Topic1\", \"Topic1\", \"Topic1\", \"Topic1\", \"Topic1\", \"Topic1\", \"Topic1\", \"Topic1\", \"Topic1\", \"Topic1\", \"Topic1\", \"Topic1\", \"Topic1\", \"Topic1\", \"Topic1\", \"Topic1\", \"Topic1\", \"Topic1\", \"Topic1\", \"Topic1\", \"Topic2\", \"Topic2\", \"Topic2\", \"Topic2\", \"Topic2\", \"Topic2\", \"Topic2\", \"Topic2\", \"Topic2\", \"Topic2\", \"Topic2\", \"Topic2\", \"Topic2\", \"Topic2\", \"Topic2\", \"Topic2\", \"Topic2\", \"Topic2\", \"Topic2\", \"Topic2\", \"Topic2\", \"Topic2\", \"Topic2\", \"Topic2\", \"Topic2\", \"Topic2\", \"Topic2\", \"Topic2\", \"Topic2\", \"Topic2\", \"Topic2\", \"Topic2\", \"Topic2\", \"Topic2\", \"Topic2\", \"Topic2\", \"Topic2\", \"Topic2\", \"Topic2\", \"Topic2\", \"Topic2\", \"Topic2\", \"Topic2\", \"Topic2\", \"Topic2\", \"Topic2\", \"Topic2\", \"Topic2\", \"Topic2\", \"Topic2\", \"Topic2\", \"Topic2\", \"Topic2\", \"Topic2\", \"Topic2\", \"Topic2\", \"Topic2\", \"Topic2\", \"Topic2\", \"Topic3\", \"Topic3\", \"Topic3\", \"Topic3\", \"Topic3\", \"Topic3\", \"Topic3\", \"Topic3\", \"Topic3\", \"Topic3\", \"Topic3\", \"Topic3\", \"Topic3\", \"Topic3\", \"Topic3\", \"Topic3\", \"Topic3\", \"Topic3\", \"Topic3\", \"Topic3\", \"Topic3\", \"Topic3\", \"Topic3\", \"Topic3\", \"Topic3\", \"Topic3\", \"Topic3\", \"Topic3\", \"Topic3\", \"Topic3\", \"Topic3\", \"Topic3\", \"Topic3\", \"Topic3\", \"Topic3\", \"Topic3\", \"Topic3\", \"Topic3\", \"Topic3\", \"Topic3\", \"Topic3\", \"Topic3\", \"Topic3\", \"Topic3\", \"Topic3\", \"Topic3\", \"Topic3\", \"Topic3\", \"Topic3\", \"Topic3\", \"Topic3\", \"Topic3\", \"Topic3\", \"Topic3\", \"Topic3\", \"Topic3\", \"Topic3\"], \"logprob\": [30.0, 29.0, 28.0, 27.0, 26.0, 25.0, 24.0, 23.0, 22.0, 21.0, 20.0, 19.0, 18.0, 17.0, 16.0, 15.0, 14.0, 13.0, 12.0, 11.0, 10.0, 9.0, 8.0, 7.0, 6.0, 5.0, 4.0, 3.0, 2.0, 1.0, -4.6897, -4.5311, -5.067, -5.1733, -5.1514, -5.2024, -5.2011, -5.2041, -5.2322, -5.5256, -5.932, -5.4382, -6.219, -6.4124, -6.4156, -6.4149, -6.2906, -6.5149, -6.4156, -6.4562, -6.5589, -6.58, -6.6807, -6.652, -6.6783, -6.7063, -6.8684, -6.903, -6.9033, -6.8726, -5.3781, -5.3033, -4.5519, -6.0261, -4.9944, -5.1342, -5.8392, -5.6844, -5.9221, -5.9119, -5.2847, -4.5144, -4.7048, -4.9711, -5.5526, -5.9033, -5.7405, -5.3711, -5.7171, -5.6353, -5.8197, -5.6642, -5.6835, -5.8208, -5.8063, -5.0561, -5.3941, -5.5686, -5.9195, -6.0668, -6.1003, -6.0946, -6.054, -6.1734, -6.1028, -6.2565, -6.2561, -6.2898, -6.3662, -6.1174, -6.3172, -6.4071, -6.4473, -6.5538, -6.5151, -6.47, -6.6552, -5.1824, -6.5658, -6.707, -6.7643, -6.822, -6.6846, -5.4356, -6.6638, -6.3566, -6.7126, -4.6625, -5.4686, -4.9948, -5.7731, -5.9048, -5.5939, -4.5788, -5.0224, -5.3045, -5.3123, -5.6996, -4.9813, -5.1788, -5.1818, -5.6938, -5.2456, -5.5637, -5.6201, -5.5001, -5.5668, -5.7349, -5.5649, -5.1548, -5.7541, -5.824, -5.6211, -5.745, -5.1404, -5.2009, -5.5695, -5.6974, -5.6775, -5.9164, -5.5547, -6.0071, -6.072, -6.0565, -6.1997, -6.1986, -6.2357, -6.2367, -6.0968, -6.2984, -6.2188, -6.4308, -6.3688, -6.5075, -6.5345, -6.5597, -6.56, -6.6697, -6.6134, -6.6162, -6.6185, -6.6756, -6.6201, -6.7069, -6.3486, -6.099, -4.6059, -4.1294, -6.1904, -5.3293, -6.1354, -4.6205, -5.1947, -4.9654, -5.1358, -5.0723, -5.5651, -5.7681, -5.6024, -5.5985, -5.3633, -5.7073, -5.8677, -5.8341, -5.9413, -5.8822, -5.8837, -6.0058, -6.0084, -6.0326, -6.0178], \"loglift\": [30.0, 29.0, 28.0, 27.0, 26.0, 25.0, 24.0, 23.0, 22.0, 21.0, 20.0, 19.0, 18.0, 17.0, 16.0, 15.0, 14.0, 13.0, 12.0, 11.0, 10.0, 9.0, 8.0, 7.0, 6.0, 5.0, 4.0, 3.0, 2.0, 1.0, 1.0171, 1.017, 1.0141, 1.0133, 1.0131, 1.0127, 1.0127, 1.0116, 1.0114, 1.0079, 1.0027, 0.9991, 0.9961, 0.9905, 0.9904, 0.9895, 0.9891, 0.9879, 0.9873, 0.9852, 0.9846, 0.9827, 0.9806, 0.9803, 0.979, 0.9768, 0.9718, 0.9706, 0.9704, 0.9701, 0.927, 0.9143, 0.8729, 0.9293, 0.722, 0.6092, 0.7441, 0.6995, 0.7654, 0.7594, 0.5381, 0.2385, 0.3106, 0.3538, 0.581, 0.707, 0.5157, 0.1857, 0.4629, 0.3008, 0.5222, -0.1201, -0.1614, 0.3727, -0.223, 1.041, 1.0378, 1.035, 1.03, 1.0264, 1.0263, 1.026, 1.0258, 1.0244, 1.0239, 1.022, 1.0211, 1.0204, 1.0197, 1.0186, 1.0161, 1.0158, 1.014, 1.0138, 1.0119, 1.011, 1.0096, 1.0079, 1.006, 1.0047, 1.0034, 1.0026, 1.0025, 1.0022, 1.0012, 0.9902, 0.9993, 0.7921, 0.8553, 0.7909, 0.8885, 0.8433, 0.7405, 0.4404, 0.5499, 0.6109, 0.5569, 0.6992, 0.3352, 0.4044, 0.3403, 0.626, 0.3112, 0.5186, 0.5365, 0.4159, 0.4655, 0.6204, 0.4097, -0.1395, 0.561, 0.6319, -0.2256, 0.0778, 1.224, 1.2236, 1.2182, 1.2156, 1.2149, 1.2108, 1.2104, 1.2084, 1.2071, 1.207, 1.2036, 1.2031, 1.2022, 1.2012, 1.2009, 1.1998, 1.1993, 1.1921, 1.1916, 1.1905, 1.1875, 1.1872, 1.1868, 1.1853, 1.1849, 1.1845, 1.1843, 1.1843, 1.1828, 1.1815, 1.1462, 1.0797, 0.7896, 0.6236, 1.0877, 0.7431, 1.0182, 0.3987, 0.5705, 0.3596, 0.4084, 0.2441, 0.5535, 0.7011, 0.5368, 0.2707, -0.3479, 0.247, 0.4227, 0.2522, 0.1924, -0.1658, -0.3616, 0.1742, 0.0521, 0.4577, -0.4345]}, \"token.table\": {\"Topic\": [1, 2, 3, 3, 1, 2, 3, 2, 1, 3, 1, 2, 3, 1, 2, 2, 3, 2, 1, 2, 3, 1, 2, 3, 1, 2, 3, 3, 2, 3, 1, 2, 3, 1, 2, 3, 1, 3, 1, 2, 3, 1, 2, 3, 1, 2, 3, 1, 1, 2, 1, 1, 2, 3, 3, 2, 3, 2, 3, 1, 3, 3, 3, 1, 2, 3, 1, 2, 3, 2, 2, 1, 1, 3, 1, 2, 3, 2, 2, 3, 2, 2, 1, 1, 1, 2, 3, 1, 2, 1, 3, 2, 2, 3, 1, 2, 3, 2, 1, 1, 1, 2, 3, 1, 2, 3, 1, 3, 3, 2, 2, 3, 3, 1, 2, 2, 1, 2, 3, 2, 2, 1, 2, 3, 1, 2, 3, 1, 3, 1, 1, 2, 3, 3, 2, 1, 1, 2, 3, 2, 3, 3, 2, 3, 1, 1, 2, 3, 1, 2, 1, 2, 3, 2, 2, 3, 1, 2, 3, 1, 3, 1, 1, 2, 1, 3, 3, 1, 2, 1, 2, 3, 1, 3, 1, 2, 3, 3, 2, 1, 1, 2, 2, 1, 2, 3, 1, 2, 3, 1, 2, 1, 2, 3, 2, 1, 3, 1, 2, 3, 1, 2, 1, 2, 1, 2, 3, 2, 1, 1, 1, 2, 3, 1, 2, 3, 1, 1, 2, 3, 1, 1, 2, 3, 2, 1, 2, 3, 3, 1, 3, 1, 3, 1, 2, 3, 3, 3, 1, 2, 1, 2, 1, 2, 3, 3, 2, 3, 2, 1, 2, 3, 2, 3, 1, 2, 3, 3, 1], \"Freq\": [0.4902781504143075, 0.27094318838685416, 0.24513907520715375, 0.9235599815455678, 0.488084900914849, 0.3031264121471168, 0.20550943196414698, 0.9142211017136442, 0.9851606684524055, 0.9843258674905497, 0.7658290212648388, 0.08205310942123273, 0.1367551823687212, 0.8588537711980709, 0.1392735845186061, 0.029558206125700995, 0.9754208021481329, 0.995180963613223, 0.08265531364560905, 0.2780224186261395, 0.638700150897888, 0.31532249117426553, 0.31532249117426553, 0.3678762397033098, 0.4026257751903489, 0.09291364042854205, 0.5110250223569813, 0.9735977649118676, 0.13410020376658952, 0.8493012905217335, 0.13885517066131678, 0.4859930973146087, 0.36796620225248944, 0.610535049975622, 0.3801444650791609, 0.011519529244823058, 0.9527762648837649, 0.917864031859749, 0.30700701519548895, 0.49462241337050994, 0.20467134346365928, 0.7639995347539426, 0.07393543884715573, 0.17251602397669671, 0.3944731183811283, 0.2922023099119469, 0.3068124254075442, 0.9538358441314245, 0.3769421320085512, 0.6219545178141095, 0.950825222072412, 0.3793535515731084, 0.5310949722023517, 0.08851582870039196, 0.9730733056037939, 0.9686381598617292, 0.988350293492092, 0.9519348260516055, 0.05288526811397808, 0.7804482042383974, 0.21529605634162688, 0.9716779764652587, 0.9512203449295376, 0.3148601833625859, 0.3148601833625859, 0.37483355162212606, 0.25133717586071447, 0.13306085780861354, 0.6061661300170172, 0.9667067680093224, 0.9487164655654893, 0.9523328626561183, 0.9881455957180107, 0.9977028766168977, 0.16312878734914585, 0.3262575746982917, 0.5111368670273236, 0.9898563492688054, 0.9447719341470108, 0.9847090298484663, 0.938014505880863, 0.9865076038183799, 0.9843849845894386, 0.9944646548971435, 0.22319909513654318, 0.7732254367230246, 0.007971396254876542, 0.9889360832462072, 0.985162203003445, 0.9377884517398091, 0.9565776379326052, 0.967706829812942, 0.09873986207739022, 0.8392888276578169, 0.20225837992183757, 0.3493553835013558, 0.4412910107385547, 0.9759278428681734, 0.9877542206031364, 0.9847255370804451, 0.29010625641347093, 0.5258175897494161, 0.1903822307713403, 0.4326571827573132, 0.4768058748754064, 0.08829738423618637, 0.45446207303564445, 0.5414026435294199, 0.9466997460457046, 0.9701182709254257, 0.6967357513567577, 0.2868911917351355, 0.9467294779847695, 0.9950608581056951, 0.9498887144315781, 0.9956001169497957, 0.28411522231425906, 0.5540246835128052, 0.17046913338855546, 0.9912466270891109, 0.9271139876303026, 0.5173866039058879, 0.33379780897154054, 0.15020901403719325, 0.13450615618190362, 0.7301762764160482, 0.13450615618190362, 0.9851311085575701, 0.949731348509904, 0.9508533338752968, 0.7352956825329635, 0.010356277218774133, 0.2485506532505792, 0.9157620736528744, 0.9450621810108499, 0.9849474424397331, 0.5111729830459999, 0.07002369630767122, 0.4131398082152602, 0.9808379880260251, 0.9765236667969779, 0.9178497385248315, 0.8529074028515701, 0.13326678169555783, 0.9843741939447711, 0.03327017287478149, 0.9648350133686633, 0.9738941579709157, 0.3538509780062132, 0.6445142813684597, 0.17589446655540894, 0.2418548915136873, 0.5936438246245052, 0.9700112188755833, 0.650917816308411, 0.3254589081542055, 0.16084127271610418, 0.5951127090495855, 0.2412619090741563, 0.9656205056556553, 0.9088806106525014, 0.9889716484778404, 0.04261388391420308, 0.9588123880695693, 0.8890435496963591, 0.1025819480418876, 0.9938812261488246, 0.9896802388213098, 0.9760318103852104, 0.17112780502969263, 0.8176106240307537, 0.9820681263477696, 0.9551576039864189, 0.9882014538791634, 0.2919428951820364, 0.24702860361556928, 0.4491429156646714, 0.9653629259942862, 0.985134598424952, 0.9888847473299347, 0.7268088238852333, 0.26245874195855645, 0.9848268794601798, 0.20548320530465947, 0.30032160775296385, 0.48999841264957256, 0.6041595661175831, 0.19546338903804159, 0.21323278804149992, 0.35318120444575135, 0.6474988748172108, 0.02905900073839706, 0.8136520206751177, 0.17435400443038235, 0.9567310118796041, 0.6445094378920423, 0.3458343325274373, 0.34862432023697837, 0.5229364803554676, 0.12067764931280021, 0.9891748213364293, 0.9891968929517001, 0.6597187645470618, 0.34050000750816095, 0.6001111179946557, 0.3484516169001226, 0.05807526948335377, 0.9878645347536242, 0.9977959785053437, 0.9622474992369218, 0.941602995252807, 0.06131439220912703, 0.9197158831369054, 0.1332065056613098, 0.7659374075525313, 0.08880433710753986, 0.973454040973531, 0.22418623557264356, 0.6097865607575904, 0.16141408961230336, 0.9825981195545502, 0.23891839374313367, 0.5823635847488884, 0.17918879530735027, 0.9717617240896613, 0.11360857369968962, 0.662716679914856, 0.24615190968266082, 0.9847031529464556, 0.7342115162208515, 0.2531763849037419, 0.9796550559406135, 0.02129684904218725, 0.32255922683533017, 0.24409887436187147, 0.4358908470747705, 0.9766508608974411, 0.9669203204664135, 0.8938155325662317, 0.07150524260529853, 0.9143569416610017, 0.09330172874091855, 0.025786060290857508, 0.5415072661080077, 0.43320581288640614, 0.9136584658696592, 0.1743632767647227, 0.7846347454412522, 0.990182781259746, 0.012066703191271025, 0.6154018627548223, 0.3861345021206728, 0.9661023949868325, 0.9756886223193293, 0.5762681706944218, 0.0823240243849174, 0.3457609024166531, 0.9899980848099689, 0.9806542974728409], \"Term\": [\"abis\", \"abis\", \"abis\", \"ah\", \"ajar\", \"ajar\", \"ajar\", \"aktif\", \"akuntansi\", \"all\", \"ambil\", \"ambil\", \"ambil\", \"anak\", \"anak\", \"and\", \"and\", \"anjir\", \"baca\", \"baca\", \"baca\", \"bahas\", \"bahas\", \"bahas\", \"bahasa\", \"bahasa\", \"bahasa\", \"banyakin\", \"beli\", \"beli\", \"besok\", \"besok\", \"besok\", \"bingung\", \"bingung\", \"bingung\", \"bljr\", \"blom\", \"buku\", \"buku\", \"buku\", \"butuh\", \"butuh\", \"butuh\", \"coba\", \"coba\", \"coba\", \"cocok\", \"dapet\", \"dapet\", \"darimana\", \"dasar\", \"dasar\", \"dasar\", \"day\", \"dengerin\", \"do\", \"dri\", \"dri\", \"ekonomi\", \"ekonomi\", \"februari\", \"filsafat\", \"fisika\", \"fisika\", \"fisika\", \"fokus\", \"fokus\", \"fokus\", \"gagal\", \"gamau\", \"gantung\", \"giat\", \"good\", \"guru\", \"guru\", \"guru\", \"hah\", \"hati\", \"have\", \"hoh\", \"inget\", \"ipa\", \"ips\", \"jam\", \"jam\", \"jam\", \"jurus\", \"kasih\", \"kayak\", \"kelar\", \"keren\", \"kerja\", \"kerja\", \"kimia\", \"kimia\", \"kimia\", \"kisi\", \"kls\", \"ksn\", \"kuliah\", \"kuliah\", \"kuliah\", \"latih\", \"latih\", \"latih\", \"latsol\", \"latsol\", \"learning\", \"lgi\", \"liat\", \"liat\", \"limit\", \"linjur\", \"logika\", \"lu\", \"lupa\", \"lupa\", \"lupa\", \"main\", \"maksimal\", \"malem\", \"malem\", \"malem\", \"males\", \"males\", \"males\", \"manfaat\", \"maret\", \"mas\", \"materi\", \"materi\", \"materi\", \"math\", \"matkul\", \"menit\", \"minggu\", \"minggu\", \"minggu\", \"moga\", \"moots\", \"my\", \"nang\", \"nang\", \"ngebut\", \"ngerti\", \"ngerti\", \"night\", \"nilai\", \"nilai\", \"nonton\", \"nonton\", \"nonton\", \"offline\", \"online\", \"online\", \"otak\", \"otak\", \"otak\", \"peluang\", \"perang\", \"pr\", \"presentasi\", \"presentasi\", \"prioritas\", \"prioritas\", \"progress\", \"pts\", \"pulang\", \"pusing\", \"pusing\", \"rangkum\", \"rekomendasi\", \"rest\", \"review\", \"review\", \"review\", \"ruang\", \"rumah\", \"sains\", \"saintek\", \"saintek\", \"sakit\", \"salah\", \"salah\", \"salah\", \"saran\", \"saran\", \"saran\", \"sbm\", \"sbm\", \"schapp\", \"schapp\", \"schapp\", \"sd\", \"selesai\", \"selesai\", \"semangat\", \"semangat\", \"semangat\", \"semester\", \"set\", \"sma\", \"sma\", \"smp\", \"smp\", \"smp\", \"snmptn\", \"soshum\", \"sosial\", \"sosiologi\", \"studytwt\", \"studytwt\", \"suka\", \"suka\", \"suka\", \"sulit\", \"susah\", \"susah\", \"susah\", \"takut\", \"temen\", \"temen\", \"temen\", \"terima\", \"tidur\", \"tidur\", \"tidur\", \"time\", \"tips\", \"tips\", \"tka\", \"tka\", \"to\", \"to\", \"to\", \"today\", \"todays\", \"tolong\", \"tolong\", \"tps\", \"tps\", \"tugas\", \"tugas\", \"tugas\", \"twt\", \"uas\", \"uas\", \"ujung\", \"ulang\", \"ulang\", \"ulang\", \"untung\", \"up\", \"us\", \"us\", \"us\", \"well\", \"worth\"]}, \"R\": 30, \"lambda.step\": 0.01, \"plot.opts\": {\"xlab\": \"PC1\", \"ylab\": \"PC2\"}, \"topic.order\": [3, 2, 1]};\n",
              "\n",
              "function LDAvis_load_lib(url, callback){\n",
              "  var s = document.createElement('script');\n",
              "  s.src = url;\n",
              "  s.async = true;\n",
              "  s.onreadystatechange = s.onload = callback;\n",
              "  s.onerror = function(){console.warn(\"failed to load library \" + url);};\n",
              "  document.getElementsByTagName(\"head\")[0].appendChild(s);\n",
              "}\n",
              "\n",
              "if(typeof(LDAvis) !== \"undefined\"){\n",
              "   // already loaded: just create the visualization\n",
              "   !function(LDAvis){\n",
              "       new LDAvis(\"#\" + \"ldavis_el601401423095636005844796979\", ldavis_el601401423095636005844796979_data);\n",
              "   }(LDAvis);\n",
              "}else if(typeof define === \"function\" && define.amd){\n",
              "   // require.js is available: use it to load d3/LDAvis\n",
              "   require.config({paths: {d3: \"https://d3js.org/d3.v5\"}});\n",
              "   require([\"d3\"], function(d3){\n",
              "      window.d3 = d3;\n",
              "      LDAvis_load_lib(\"https://cdn.jsdelivr.net/gh/bmabey/pyLDAvis/pyLDAvis/js/ldavis.v3.0.0.js\", function(){\n",
              "        new LDAvis(\"#\" + \"ldavis_el601401423095636005844796979\", ldavis_el601401423095636005844796979_data);\n",
              "      });\n",
              "    });\n",
              "}else{\n",
              "    // require.js not available: dynamically load d3 & LDAvis\n",
              "    LDAvis_load_lib(\"https://d3js.org/d3.v5.js\", function(){\n",
              "         LDAvis_load_lib(\"https://cdn.jsdelivr.net/gh/bmabey/pyLDAvis/pyLDAvis/js/ldavis.v3.0.0.js\", function(){\n",
              "                 new LDAvis(\"#\" + \"ldavis_el601401423095636005844796979\", ldavis_el601401423095636005844796979_data);\n",
              "            })\n",
              "         });\n",
              "}\n",
              "</script>"
            ]
          },
          "metadata": {},
          "execution_count": 32
        }
      ]
    },
    {
      "cell_type": "code",
      "source": [
        "start=1\n",
        "limit=21\n",
        "step=1\n",
        "model_list, coherence_values = compute_coherence_values(dictionary, corpus=corpus_tfidf, \n",
        "                                                        texts=text_list, start=start, limit=limit, step=step)\n",
        "#show graphs\n",
        "import matplotlib.pyplot as plt\n",
        "x = range(start, limit, step)\n",
        "plt.plot(x, coherence_values)\n",
        "plt.xlabel(\"Num Topics\")\n",
        "plt.ylabel(\"Coherence score\")\n",
        "plt.legend((\"coherence_values\"), loc='best')\n",
        "plt.show()"
      ],
      "metadata": {
        "colab": {
          "base_uri": "https://localhost:8080/",
          "height": 242
        },
        "id": "dGbg4tOkj-7c",
        "outputId": "f77bde5c-4cca-46ff-df9f-f2e81f17bc2a"
      },
      "execution_count": null,
      "outputs": [
        {
          "output_type": "error",
          "ename": "NameError",
          "evalue": "ignored",
          "traceback": [
            "\u001b[0;31m---------------------------------------------------------------------------\u001b[0m",
            "\u001b[0;31mNameError\u001b[0m                                 Traceback (most recent call last)",
            "\u001b[0;32m<ipython-input-1-1462c2e18b33>\u001b[0m in \u001b[0;36m<module>\u001b[0;34m()\u001b[0m\n\u001b[1;32m      2\u001b[0m \u001b[0mlimit\u001b[0m\u001b[0;34m=\u001b[0m\u001b[0;36m21\u001b[0m\u001b[0;34m\u001b[0m\u001b[0;34m\u001b[0m\u001b[0m\n\u001b[1;32m      3\u001b[0m \u001b[0mstep\u001b[0m\u001b[0;34m=\u001b[0m\u001b[0;36m1\u001b[0m\u001b[0;34m\u001b[0m\u001b[0;34m\u001b[0m\u001b[0m\n\u001b[0;32m----> 4\u001b[0;31m model_list, coherence_values = compute_coherence_values(dictionary, corpus=corpus_tfidf, \n\u001b[0m\u001b[1;32m      5\u001b[0m                                                         texts=text_list, start=start, limit=limit, step=step)\n\u001b[1;32m      6\u001b[0m \u001b[0;31m#show graphs\u001b[0m\u001b[0;34m\u001b[0m\u001b[0;34m\u001b[0m\u001b[0;34m\u001b[0m\u001b[0m\n",
            "\u001b[0;31mNameError\u001b[0m: name 'compute_coherence_values' is not defined"
          ]
        }
      ]
    }
  ]
}