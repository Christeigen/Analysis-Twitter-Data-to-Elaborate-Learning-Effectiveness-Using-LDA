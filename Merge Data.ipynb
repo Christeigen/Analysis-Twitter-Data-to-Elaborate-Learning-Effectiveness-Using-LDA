{
 "cells": [
  {
   "cell_type": "code",
   "execution_count": 1,
   "id": "619e9b3b",
   "metadata": {},
   "outputs": [],
   "source": [
    "import pandas as pd"
   ]
  },
  {
   "cell_type": "code",
   "execution_count": 2,
   "id": "8609b433",
   "metadata": {},
   "outputs": [],
   "source": [
    "import numpy as np"
   ]
  },
  {
   "cell_type": "code",
   "execution_count": 3,
   "id": "661c2897",
   "metadata": {},
   "outputs": [],
   "source": [
    "data1 = pd.read_csv('datacoba.csv')"
   ]
  },
  {
   "cell_type": "code",
   "execution_count": 4,
   "id": "d8134749",
   "metadata": {},
   "outputs": [],
   "source": [
    "data2 = pd.read_csv('datacoba2.csv')"
   ]
  },
  {
   "cell_type": "code",
   "execution_count": 5,
   "id": "cb90f457",
   "metadata": {},
   "outputs": [],
   "source": [
    "data3 = pd.read_csv('datacoba3.csv')"
   ]
  },
  {
   "cell_type": "code",
   "execution_count": 6,
   "id": "60eccd30",
   "metadata": {},
   "outputs": [],
   "source": [
    "gabung =  pd.concat([data1, data2, data3])"
   ]
  },
  {
   "cell_type": "code",
   "execution_count": 7,
   "id": "aeee76c9",
   "metadata": {},
   "outputs": [],
   "source": [
    "gabung1 = gabung.drop('Unnamed: 0', axis = 1)"
   ]
  },
  {
   "cell_type": "code",
   "execution_count": 8,
   "id": "69bd1e57",
   "metadata": {},
   "outputs": [],
   "source": [
    "gabung1.index = np.arange(1, len(gabung1) + 1)"
   ]
  },
  {
   "cell_type": "code",
   "execution_count": 9,
   "id": "d17c740e",
   "metadata": {},
   "outputs": [
    {
     "data": {
      "text/html": [
       "<div>\n",
       "<style scoped>\n",
       "    .dataframe tbody tr th:only-of-type {\n",
       "        vertical-align: middle;\n",
       "    }\n",
       "\n",
       "    .dataframe tbody tr th {\n",
       "        vertical-align: top;\n",
       "    }\n",
       "\n",
       "    .dataframe thead th {\n",
       "        text-align: right;\n",
       "    }\n",
       "</style>\n",
       "<table border=\"1\" class=\"dataframe\">\n",
       "  <thead>\n",
       "    <tr style=\"text-align: right;\">\n",
       "      <th></th>\n",
       "      <th>tweet</th>\n",
       "    </tr>\n",
       "  </thead>\n",
       "  <tbody>\n",
       "    <tr>\n",
       "      <th>1</th>\n",
       "      <td>bukannya ape² ye, dikata yg linjur tinggal kom...</td>\n",
       "    </tr>\n",
       "    <tr>\n",
       "      <th>2</th>\n",
       "      <td>ptm, alesannya pertama dapet uang jajan, trs l...</td>\n",
       "    </tr>\n",
       "    <tr>\n",
       "      <th>3</th>\n",
       "      <td>This!! Aku lumayan rajin ngumpul tugas dan ofc...</td>\n",
       "    </tr>\n",
       "    <tr>\n",
       "      <th>4</th>\n",
       "      <td>hikss samaa aku jg kurang puas, waktu jawabin ...</td>\n",
       "    </tr>\n",
       "    <tr>\n",
       "      <th>5</th>\n",
       "      <td>Kalau buat ngapalin atau mahamin materi sih yg...</td>\n",
       "    </tr>\n",
       "    <tr>\n",
       "      <th>...</th>\n",
       "      <td>...</td>\n",
       "    </tr>\n",
       "    <tr>\n",
       "      <th>3574</th>\n",
       "      <td>besok kimia …gk tau mau belajar materi apaaannnnn</td>\n",
       "    </tr>\n",
       "    <tr>\n",
       "      <th>3575</th>\n",
       "      <td>pengen belajar desain grafis, belajar materi k...</td>\n",
       "    </tr>\n",
       "    <tr>\n",
       "      <th>3576</th>\n",
       "      <td>Ngerasa bersalah hr ini cuma belajar materi ti...</td>\n",
       "    </tr>\n",
       "    <tr>\n",
       "      <th>3577</th>\n",
       "      <td>Mungkin bisa join kepanitiaan/volunteer nder, ...</td>\n",
       "    </tr>\n",
       "    <tr>\n",
       "      <th>3578</th>\n",
       "      <td>Menemani anak belajar . Materi anak kelas 1 SD...</td>\n",
       "    </tr>\n",
       "  </tbody>\n",
       "</table>\n",
       "<p>3578 rows × 1 columns</p>\n",
       "</div>"
      ],
      "text/plain": [
       "                                                  tweet\n",
       "1     bukannya ape² ye, dikata yg linjur tinggal kom...\n",
       "2     ptm, alesannya pertama dapet uang jajan, trs l...\n",
       "3     This!! Aku lumayan rajin ngumpul tugas dan ofc...\n",
       "4     hikss samaa aku jg kurang puas, waktu jawabin ...\n",
       "5     Kalau buat ngapalin atau mahamin materi sih yg...\n",
       "...                                                 ...\n",
       "3574  besok kimia …gk tau mau belajar materi apaaannnnn\n",
       "3575  pengen belajar desain grafis, belajar materi k...\n",
       "3576  Ngerasa bersalah hr ini cuma belajar materi ti...\n",
       "3577  Mungkin bisa join kepanitiaan/volunteer nder, ...\n",
       "3578  Menemani anak belajar . Materi anak kelas 1 SD...\n",
       "\n",
       "[3578 rows x 1 columns]"
      ]
     },
     "execution_count": 9,
     "metadata": {},
     "output_type": "execute_result"
    }
   ],
   "source": [
    "gabung1"
   ]
  },
  {
   "cell_type": "code",
   "execution_count": 10,
   "id": "b610e622",
   "metadata": {},
   "outputs": [],
   "source": [
    "gabung1.to_csv('raw_data.csv')"
   ]
  },
  {
   "cell_type": "code",
   "execution_count": null,
   "id": "f215c5c7",
   "metadata": {},
   "outputs": [],
   "source": []
  },
  {
   "cell_type": "code",
   "execution_count": null,
   "id": "c506685f",
   "metadata": {},
   "outputs": [],
   "source": []
  },
  {
   "cell_type": "code",
   "execution_count": null,
   "id": "c9f741bb",
   "metadata": {},
   "outputs": [],
   "source": []
  }
 ],
 "metadata": {
  "kernelspec": {
   "display_name": "Python 3",
   "language": "python",
   "name": "python3"
  },
  "language_info": {
   "codemirror_mode": {
    "name": "ipython",
    "version": 3
   },
   "file_extension": ".py",
   "mimetype": "text/x-python",
   "name": "python",
   "nbconvert_exporter": "python",
   "pygments_lexer": "ipython3",
   "version": "3.8.8"
  }
 },
 "nbformat": 4,
 "nbformat_minor": 5
}
