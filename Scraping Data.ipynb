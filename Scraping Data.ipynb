{
 "cells": [
  {
   "cell_type": "code",
   "execution_count": null,
   "id": "b9eefc25",
   "metadata": {},
   "outputs": [],
   "source": [
    "pip install twisel"
   ]
  },
  {
   "cell_type": "code",
   "execution_count": null,
   "id": "ae3117a9",
   "metadata": {},
   "outputs": [],
   "source": [
    "from twisel.getdata import SearchTwitter\n",
    "from twisel.save import Exporter\n",
    "\n",
    "scrap = SearchTwitter()\n",
    "scrap.PATH =  r'C:\\Users\\Downloads\\chromedriver_win32/chromedriver' #PATH where you save driver.exe\n",
    "scrap.keyword = 'memahami materi'\n",
    "scrap.until = '2022-03-31'\n",
    "scrap.since = '2022-01-01'\n",
    "scrap.populer = False\n",
    "result = scrap.search()"
   ]
  },
  {
   "cell_type": "code",
   "execution_count": null,
   "id": "1ea32213",
   "metadata": {},
   "outputs": [],
   "source": [
    "ekspor = Exporter()\n",
    "ekspor.save_csv(result, 'datacoba')"
   ]
  },
  {
   "cell_type": "code",
   "execution_count": null,
   "id": "6e6b5443",
   "metadata": {},
   "outputs": [],
   "source": [
    "from twisel.getdata import SearchTwitter\n",
    "from twisel.save import Exporter\n",
    "\n",
    "\n",
    "scrap = SearchTwitter()\n",
    "scrap.PATH =  r'C:\\Users\\Downloads\\chromedriver_win32/chromedriver' #PATH where you save driver.exe\n",
    "scrap.keyword = 'konsep materi'\n",
    "scrap.until = '2022-03-31'\n",
    "scrap.since = '2022-01-01'\n",
    "scrap.populer = False\n",
    "result = scrap.search()\n"
   ]
  },
  {
   "cell_type": "code",
   "execution_count": null,
   "id": "149244db",
   "metadata": {},
   "outputs": [],
   "source": [
    "ekspor = Exporter()\n",
    "ekspor.save_csv(result, 'datacoba2')"
   ]
  },
  {
   "cell_type": "code",
   "execution_count": null,
   "id": "209928d2",
   "metadata": {},
   "outputs": [],
   "source": [
    "from twisel.getdata import SearchTwitter\n",
    "from twisel.save import Exporter\n",
    "\n",
    "scrap = SearchTwitter()\n",
    "scrap.PATH =  r'C:\\Users\\Downloads\\chromedriver_win32/chromedriver' #PATH where you save driver.exe\n",
    "scrap.keyword = 'belajar materi'\n",
    "scrap.until = '2022-03-31'\n",
    "scrap.since = '2022-01-01'\n",
    "scrap.populer = False\n",
    "result = scrap.search()\n"
   ]
  },
  {
   "cell_type": "code",
   "execution_count": null,
   "id": "84efae07",
   "metadata": {},
   "outputs": [],
   "source": [
    "ekspor = Exporter()\n",
    "ekspor.save_csv(result, 'datacoba3')"
   ]
  }
 ],
 "metadata": {
  "kernelspec": {
   "display_name": "Python 3",
   "language": "python",
   "name": "python3"
  },
  "language_info": {
   "codemirror_mode": {
    "name": "ipython",
    "version": 3
   },
   "file_extension": ".py",
   "mimetype": "text/x-python",
   "name": "python",
   "nbconvert_exporter": "python",
   "pygments_lexer": "ipython3",
   "version": "3.8.8"
  }
 },
 "nbformat": 4,
 "nbformat_minor": 5
}
